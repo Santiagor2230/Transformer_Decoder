{
  "nbformat": 4,
  "nbformat_minor": 0,
  "metadata": {
    "colab": {
      "provenance": [],
      "gpuType": "T4",
      "authorship_tag": "ABX9TyMRBGYivVabYySJFXkCEM9C"
    },
    "kernelspec": {
      "name": "python3",
      "display_name": "Python 3"
    },
    "language_info": {
      "name": "python"
    },
    "accelerator": "GPU",
    "widgets": {
      "application/vnd.jupyter.widget-state+json": {
        "221c2d6898b641edadae84f16858c4af": {
          "model_module": "@jupyter-widgets/controls",
          "model_name": "HBoxModel",
          "model_module_version": "1.5.0",
          "state": {
            "_dom_classes": [],
            "_model_module": "@jupyter-widgets/controls",
            "_model_module_version": "1.5.0",
            "_model_name": "HBoxModel",
            "_view_count": null,
            "_view_module": "@jupyter-widgets/controls",
            "_view_module_version": "1.5.0",
            "_view_name": "HBoxView",
            "box_style": "",
            "children": [
              "IPY_MODEL_b522f0d2f89a43dbb75aa04c7c6f23a5",
              "IPY_MODEL_694c7ded36da47a8b25cedc0813318a1",
              "IPY_MODEL_c913121e283d411bab6268e4c1531b39"
            ],
            "layout": "IPY_MODEL_e07eae76a40548e9969f382e1cf9abdd"
          }
        },
        "b522f0d2f89a43dbb75aa04c7c6f23a5": {
          "model_module": "@jupyter-widgets/controls",
          "model_name": "HTMLModel",
          "model_module_version": "1.5.0",
          "state": {
            "_dom_classes": [],
            "_model_module": "@jupyter-widgets/controls",
            "_model_module_version": "1.5.0",
            "_model_name": "HTMLModel",
            "_view_count": null,
            "_view_module": "@jupyter-widgets/controls",
            "_view_module_version": "1.5.0",
            "_view_name": "HTMLView",
            "description": "",
            "description_tooltip": null,
            "layout": "IPY_MODEL_b19c69d843a04df29dd675cd14d0e3f5",
            "placeholder": "​",
            "style": "IPY_MODEL_95e8c4119db3449cbbda82527f937fc7",
            "value": "tokenizer_config.json: 100%"
          }
        },
        "694c7ded36da47a8b25cedc0813318a1": {
          "model_module": "@jupyter-widgets/controls",
          "model_name": "FloatProgressModel",
          "model_module_version": "1.5.0",
          "state": {
            "_dom_classes": [],
            "_model_module": "@jupyter-widgets/controls",
            "_model_module_version": "1.5.0",
            "_model_name": "FloatProgressModel",
            "_view_count": null,
            "_view_module": "@jupyter-widgets/controls",
            "_view_module_version": "1.5.0",
            "_view_name": "ProgressView",
            "bar_style": "success",
            "description": "",
            "description_tooltip": null,
            "layout": "IPY_MODEL_5469c3e3cc924021b14fb56ea8af6b2c",
            "max": 29,
            "min": 0,
            "orientation": "horizontal",
            "style": "IPY_MODEL_08144a000f94412d989f10d696cfc104",
            "value": 29
          }
        },
        "c913121e283d411bab6268e4c1531b39": {
          "model_module": "@jupyter-widgets/controls",
          "model_name": "HTMLModel",
          "model_module_version": "1.5.0",
          "state": {
            "_dom_classes": [],
            "_model_module": "@jupyter-widgets/controls",
            "_model_module_version": "1.5.0",
            "_model_name": "HTMLModel",
            "_view_count": null,
            "_view_module": "@jupyter-widgets/controls",
            "_view_module_version": "1.5.0",
            "_view_name": "HTMLView",
            "description": "",
            "description_tooltip": null,
            "layout": "IPY_MODEL_5aaac79b387c441cbcbfa267a9c3fc97",
            "placeholder": "​",
            "style": "IPY_MODEL_2fa1dfedce1940f38f325ffdb0594fbd",
            "value": " 29.0/29.0 [00:00&lt;00:00, 668B/s]"
          }
        },
        "e07eae76a40548e9969f382e1cf9abdd": {
          "model_module": "@jupyter-widgets/base",
          "model_name": "LayoutModel",
          "model_module_version": "1.2.0",
          "state": {
            "_model_module": "@jupyter-widgets/base",
            "_model_module_version": "1.2.0",
            "_model_name": "LayoutModel",
            "_view_count": null,
            "_view_module": "@jupyter-widgets/base",
            "_view_module_version": "1.2.0",
            "_view_name": "LayoutView",
            "align_content": null,
            "align_items": null,
            "align_self": null,
            "border": null,
            "bottom": null,
            "display": null,
            "flex": null,
            "flex_flow": null,
            "grid_area": null,
            "grid_auto_columns": null,
            "grid_auto_flow": null,
            "grid_auto_rows": null,
            "grid_column": null,
            "grid_gap": null,
            "grid_row": null,
            "grid_template_areas": null,
            "grid_template_columns": null,
            "grid_template_rows": null,
            "height": null,
            "justify_content": null,
            "justify_items": null,
            "left": null,
            "margin": null,
            "max_height": null,
            "max_width": null,
            "min_height": null,
            "min_width": null,
            "object_fit": null,
            "object_position": null,
            "order": null,
            "overflow": null,
            "overflow_x": null,
            "overflow_y": null,
            "padding": null,
            "right": null,
            "top": null,
            "visibility": null,
            "width": null
          }
        },
        "b19c69d843a04df29dd675cd14d0e3f5": {
          "model_module": "@jupyter-widgets/base",
          "model_name": "LayoutModel",
          "model_module_version": "1.2.0",
          "state": {
            "_model_module": "@jupyter-widgets/base",
            "_model_module_version": "1.2.0",
            "_model_name": "LayoutModel",
            "_view_count": null,
            "_view_module": "@jupyter-widgets/base",
            "_view_module_version": "1.2.0",
            "_view_name": "LayoutView",
            "align_content": null,
            "align_items": null,
            "align_self": null,
            "border": null,
            "bottom": null,
            "display": null,
            "flex": null,
            "flex_flow": null,
            "grid_area": null,
            "grid_auto_columns": null,
            "grid_auto_flow": null,
            "grid_auto_rows": null,
            "grid_column": null,
            "grid_gap": null,
            "grid_row": null,
            "grid_template_areas": null,
            "grid_template_columns": null,
            "grid_template_rows": null,
            "height": null,
            "justify_content": null,
            "justify_items": null,
            "left": null,
            "margin": null,
            "max_height": null,
            "max_width": null,
            "min_height": null,
            "min_width": null,
            "object_fit": null,
            "object_position": null,
            "order": null,
            "overflow": null,
            "overflow_x": null,
            "overflow_y": null,
            "padding": null,
            "right": null,
            "top": null,
            "visibility": null,
            "width": null
          }
        },
        "95e8c4119db3449cbbda82527f937fc7": {
          "model_module": "@jupyter-widgets/controls",
          "model_name": "DescriptionStyleModel",
          "model_module_version": "1.5.0",
          "state": {
            "_model_module": "@jupyter-widgets/controls",
            "_model_module_version": "1.5.0",
            "_model_name": "DescriptionStyleModel",
            "_view_count": null,
            "_view_module": "@jupyter-widgets/base",
            "_view_module_version": "1.2.0",
            "_view_name": "StyleView",
            "description_width": ""
          }
        },
        "5469c3e3cc924021b14fb56ea8af6b2c": {
          "model_module": "@jupyter-widgets/base",
          "model_name": "LayoutModel",
          "model_module_version": "1.2.0",
          "state": {
            "_model_module": "@jupyter-widgets/base",
            "_model_module_version": "1.2.0",
            "_model_name": "LayoutModel",
            "_view_count": null,
            "_view_module": "@jupyter-widgets/base",
            "_view_module_version": "1.2.0",
            "_view_name": "LayoutView",
            "align_content": null,
            "align_items": null,
            "align_self": null,
            "border": null,
            "bottom": null,
            "display": null,
            "flex": null,
            "flex_flow": null,
            "grid_area": null,
            "grid_auto_columns": null,
            "grid_auto_flow": null,
            "grid_auto_rows": null,
            "grid_column": null,
            "grid_gap": null,
            "grid_row": null,
            "grid_template_areas": null,
            "grid_template_columns": null,
            "grid_template_rows": null,
            "height": null,
            "justify_content": null,
            "justify_items": null,
            "left": null,
            "margin": null,
            "max_height": null,
            "max_width": null,
            "min_height": null,
            "min_width": null,
            "object_fit": null,
            "object_position": null,
            "order": null,
            "overflow": null,
            "overflow_x": null,
            "overflow_y": null,
            "padding": null,
            "right": null,
            "top": null,
            "visibility": null,
            "width": null
          }
        },
        "08144a000f94412d989f10d696cfc104": {
          "model_module": "@jupyter-widgets/controls",
          "model_name": "ProgressStyleModel",
          "model_module_version": "1.5.0",
          "state": {
            "_model_module": "@jupyter-widgets/controls",
            "_model_module_version": "1.5.0",
            "_model_name": "ProgressStyleModel",
            "_view_count": null,
            "_view_module": "@jupyter-widgets/base",
            "_view_module_version": "1.2.0",
            "_view_name": "StyleView",
            "bar_color": null,
            "description_width": ""
          }
        },
        "5aaac79b387c441cbcbfa267a9c3fc97": {
          "model_module": "@jupyter-widgets/base",
          "model_name": "LayoutModel",
          "model_module_version": "1.2.0",
          "state": {
            "_model_module": "@jupyter-widgets/base",
            "_model_module_version": "1.2.0",
            "_model_name": "LayoutModel",
            "_view_count": null,
            "_view_module": "@jupyter-widgets/base",
            "_view_module_version": "1.2.0",
            "_view_name": "LayoutView",
            "align_content": null,
            "align_items": null,
            "align_self": null,
            "border": null,
            "bottom": null,
            "display": null,
            "flex": null,
            "flex_flow": null,
            "grid_area": null,
            "grid_auto_columns": null,
            "grid_auto_flow": null,
            "grid_auto_rows": null,
            "grid_column": null,
            "grid_gap": null,
            "grid_row": null,
            "grid_template_areas": null,
            "grid_template_columns": null,
            "grid_template_rows": null,
            "height": null,
            "justify_content": null,
            "justify_items": null,
            "left": null,
            "margin": null,
            "max_height": null,
            "max_width": null,
            "min_height": null,
            "min_width": null,
            "object_fit": null,
            "object_position": null,
            "order": null,
            "overflow": null,
            "overflow_x": null,
            "overflow_y": null,
            "padding": null,
            "right": null,
            "top": null,
            "visibility": null,
            "width": null
          }
        },
        "2fa1dfedce1940f38f325ffdb0594fbd": {
          "model_module": "@jupyter-widgets/controls",
          "model_name": "DescriptionStyleModel",
          "model_module_version": "1.5.0",
          "state": {
            "_model_module": "@jupyter-widgets/controls",
            "_model_module_version": "1.5.0",
            "_model_name": "DescriptionStyleModel",
            "_view_count": null,
            "_view_module": "@jupyter-widgets/base",
            "_view_module_version": "1.2.0",
            "_view_name": "StyleView",
            "description_width": ""
          }
        },
        "47db017085384b28ab7dd39cbde5d9cc": {
          "model_module": "@jupyter-widgets/controls",
          "model_name": "HBoxModel",
          "model_module_version": "1.5.0",
          "state": {
            "_dom_classes": [],
            "_model_module": "@jupyter-widgets/controls",
            "_model_module_version": "1.5.0",
            "_model_name": "HBoxModel",
            "_view_count": null,
            "_view_module": "@jupyter-widgets/controls",
            "_view_module_version": "1.5.0",
            "_view_name": "HBoxView",
            "box_style": "",
            "children": [
              "IPY_MODEL_e6e037a88dad49c487e4570d15b4c1f0",
              "IPY_MODEL_6f34f6552a164e7ea0cd983383d79e92",
              "IPY_MODEL_11e73cc5c32e4bc4a7f0abafb2786b6c"
            ],
            "layout": "IPY_MODEL_b382cd09748f4f13bc80690d8ab35bca"
          }
        },
        "e6e037a88dad49c487e4570d15b4c1f0": {
          "model_module": "@jupyter-widgets/controls",
          "model_name": "HTMLModel",
          "model_module_version": "1.5.0",
          "state": {
            "_dom_classes": [],
            "_model_module": "@jupyter-widgets/controls",
            "_model_module_version": "1.5.0",
            "_model_name": "HTMLModel",
            "_view_count": null,
            "_view_module": "@jupyter-widgets/controls",
            "_view_module_version": "1.5.0",
            "_view_name": "HTMLView",
            "description": "",
            "description_tooltip": null,
            "layout": "IPY_MODEL_6f4aae3ad5c949c3b0a35bf77a40c89c",
            "placeholder": "​",
            "style": "IPY_MODEL_08106537f5c04151a4b554e0ad136edb",
            "value": "config.json: 100%"
          }
        },
        "6f34f6552a164e7ea0cd983383d79e92": {
          "model_module": "@jupyter-widgets/controls",
          "model_name": "FloatProgressModel",
          "model_module_version": "1.5.0",
          "state": {
            "_dom_classes": [],
            "_model_module": "@jupyter-widgets/controls",
            "_model_module_version": "1.5.0",
            "_model_name": "FloatProgressModel",
            "_view_count": null,
            "_view_module": "@jupyter-widgets/controls",
            "_view_module_version": "1.5.0",
            "_view_name": "ProgressView",
            "bar_style": "success",
            "description": "",
            "description_tooltip": null,
            "layout": "IPY_MODEL_98a1152759b4437784532fe3692efaa3",
            "max": 465,
            "min": 0,
            "orientation": "horizontal",
            "style": "IPY_MODEL_1fc0e076be664161af4338e443d5ad69",
            "value": 465
          }
        },
        "11e73cc5c32e4bc4a7f0abafb2786b6c": {
          "model_module": "@jupyter-widgets/controls",
          "model_name": "HTMLModel",
          "model_module_version": "1.5.0",
          "state": {
            "_dom_classes": [],
            "_model_module": "@jupyter-widgets/controls",
            "_model_module_version": "1.5.0",
            "_model_name": "HTMLModel",
            "_view_count": null,
            "_view_module": "@jupyter-widgets/controls",
            "_view_module_version": "1.5.0",
            "_view_name": "HTMLView",
            "description": "",
            "description_tooltip": null,
            "layout": "IPY_MODEL_c3be42b796834d3fa4786a748e826285",
            "placeholder": "​",
            "style": "IPY_MODEL_e1465bae47894bf3ac060d24ca6e9c4f",
            "value": " 465/465 [00:00&lt;00:00, 16.9kB/s]"
          }
        },
        "b382cd09748f4f13bc80690d8ab35bca": {
          "model_module": "@jupyter-widgets/base",
          "model_name": "LayoutModel",
          "model_module_version": "1.2.0",
          "state": {
            "_model_module": "@jupyter-widgets/base",
            "_model_module_version": "1.2.0",
            "_model_name": "LayoutModel",
            "_view_count": null,
            "_view_module": "@jupyter-widgets/base",
            "_view_module_version": "1.2.0",
            "_view_name": "LayoutView",
            "align_content": null,
            "align_items": null,
            "align_self": null,
            "border": null,
            "bottom": null,
            "display": null,
            "flex": null,
            "flex_flow": null,
            "grid_area": null,
            "grid_auto_columns": null,
            "grid_auto_flow": null,
            "grid_auto_rows": null,
            "grid_column": null,
            "grid_gap": null,
            "grid_row": null,
            "grid_template_areas": null,
            "grid_template_columns": null,
            "grid_template_rows": null,
            "height": null,
            "justify_content": null,
            "justify_items": null,
            "left": null,
            "margin": null,
            "max_height": null,
            "max_width": null,
            "min_height": null,
            "min_width": null,
            "object_fit": null,
            "object_position": null,
            "order": null,
            "overflow": null,
            "overflow_x": null,
            "overflow_y": null,
            "padding": null,
            "right": null,
            "top": null,
            "visibility": null,
            "width": null
          }
        },
        "6f4aae3ad5c949c3b0a35bf77a40c89c": {
          "model_module": "@jupyter-widgets/base",
          "model_name": "LayoutModel",
          "model_module_version": "1.2.0",
          "state": {
            "_model_module": "@jupyter-widgets/base",
            "_model_module_version": "1.2.0",
            "_model_name": "LayoutModel",
            "_view_count": null,
            "_view_module": "@jupyter-widgets/base",
            "_view_module_version": "1.2.0",
            "_view_name": "LayoutView",
            "align_content": null,
            "align_items": null,
            "align_self": null,
            "border": null,
            "bottom": null,
            "display": null,
            "flex": null,
            "flex_flow": null,
            "grid_area": null,
            "grid_auto_columns": null,
            "grid_auto_flow": null,
            "grid_auto_rows": null,
            "grid_column": null,
            "grid_gap": null,
            "grid_row": null,
            "grid_template_areas": null,
            "grid_template_columns": null,
            "grid_template_rows": null,
            "height": null,
            "justify_content": null,
            "justify_items": null,
            "left": null,
            "margin": null,
            "max_height": null,
            "max_width": null,
            "min_height": null,
            "min_width": null,
            "object_fit": null,
            "object_position": null,
            "order": null,
            "overflow": null,
            "overflow_x": null,
            "overflow_y": null,
            "padding": null,
            "right": null,
            "top": null,
            "visibility": null,
            "width": null
          }
        },
        "08106537f5c04151a4b554e0ad136edb": {
          "model_module": "@jupyter-widgets/controls",
          "model_name": "DescriptionStyleModel",
          "model_module_version": "1.5.0",
          "state": {
            "_model_module": "@jupyter-widgets/controls",
            "_model_module_version": "1.5.0",
            "_model_name": "DescriptionStyleModel",
            "_view_count": null,
            "_view_module": "@jupyter-widgets/base",
            "_view_module_version": "1.2.0",
            "_view_name": "StyleView",
            "description_width": ""
          }
        },
        "98a1152759b4437784532fe3692efaa3": {
          "model_module": "@jupyter-widgets/base",
          "model_name": "LayoutModel",
          "model_module_version": "1.2.0",
          "state": {
            "_model_module": "@jupyter-widgets/base",
            "_model_module_version": "1.2.0",
            "_model_name": "LayoutModel",
            "_view_count": null,
            "_view_module": "@jupyter-widgets/base",
            "_view_module_version": "1.2.0",
            "_view_name": "LayoutView",
            "align_content": null,
            "align_items": null,
            "align_self": null,
            "border": null,
            "bottom": null,
            "display": null,
            "flex": null,
            "flex_flow": null,
            "grid_area": null,
            "grid_auto_columns": null,
            "grid_auto_flow": null,
            "grid_auto_rows": null,
            "grid_column": null,
            "grid_gap": null,
            "grid_row": null,
            "grid_template_areas": null,
            "grid_template_columns": null,
            "grid_template_rows": null,
            "height": null,
            "justify_content": null,
            "justify_items": null,
            "left": null,
            "margin": null,
            "max_height": null,
            "max_width": null,
            "min_height": null,
            "min_width": null,
            "object_fit": null,
            "object_position": null,
            "order": null,
            "overflow": null,
            "overflow_x": null,
            "overflow_y": null,
            "padding": null,
            "right": null,
            "top": null,
            "visibility": null,
            "width": null
          }
        },
        "1fc0e076be664161af4338e443d5ad69": {
          "model_module": "@jupyter-widgets/controls",
          "model_name": "ProgressStyleModel",
          "model_module_version": "1.5.0",
          "state": {
            "_model_module": "@jupyter-widgets/controls",
            "_model_module_version": "1.5.0",
            "_model_name": "ProgressStyleModel",
            "_view_count": null,
            "_view_module": "@jupyter-widgets/base",
            "_view_module_version": "1.2.0",
            "_view_name": "StyleView",
            "bar_color": null,
            "description_width": ""
          }
        },
        "c3be42b796834d3fa4786a748e826285": {
          "model_module": "@jupyter-widgets/base",
          "model_name": "LayoutModel",
          "model_module_version": "1.2.0",
          "state": {
            "_model_module": "@jupyter-widgets/base",
            "_model_module_version": "1.2.0",
            "_model_name": "LayoutModel",
            "_view_count": null,
            "_view_module": "@jupyter-widgets/base",
            "_view_module_version": "1.2.0",
            "_view_name": "LayoutView",
            "align_content": null,
            "align_items": null,
            "align_self": null,
            "border": null,
            "bottom": null,
            "display": null,
            "flex": null,
            "flex_flow": null,
            "grid_area": null,
            "grid_auto_columns": null,
            "grid_auto_flow": null,
            "grid_auto_rows": null,
            "grid_column": null,
            "grid_gap": null,
            "grid_row": null,
            "grid_template_areas": null,
            "grid_template_columns": null,
            "grid_template_rows": null,
            "height": null,
            "justify_content": null,
            "justify_items": null,
            "left": null,
            "margin": null,
            "max_height": null,
            "max_width": null,
            "min_height": null,
            "min_width": null,
            "object_fit": null,
            "object_position": null,
            "order": null,
            "overflow": null,
            "overflow_x": null,
            "overflow_y": null,
            "padding": null,
            "right": null,
            "top": null,
            "visibility": null,
            "width": null
          }
        },
        "e1465bae47894bf3ac060d24ca6e9c4f": {
          "model_module": "@jupyter-widgets/controls",
          "model_name": "DescriptionStyleModel",
          "model_module_version": "1.5.0",
          "state": {
            "_model_module": "@jupyter-widgets/controls",
            "_model_module_version": "1.5.0",
            "_model_name": "DescriptionStyleModel",
            "_view_count": null,
            "_view_module": "@jupyter-widgets/base",
            "_view_module_version": "1.2.0",
            "_view_name": "StyleView",
            "description_width": ""
          }
        },
        "7b03a44e945a4024aced45d320ffda80": {
          "model_module": "@jupyter-widgets/controls",
          "model_name": "HBoxModel",
          "model_module_version": "1.5.0",
          "state": {
            "_dom_classes": [],
            "_model_module": "@jupyter-widgets/controls",
            "_model_module_version": "1.5.0",
            "_model_name": "HBoxModel",
            "_view_count": null,
            "_view_module": "@jupyter-widgets/controls",
            "_view_module_version": "1.5.0",
            "_view_name": "HBoxView",
            "box_style": "",
            "children": [
              "IPY_MODEL_ed08a3c3dd2d43b7a6e1f03982b4d1e0",
              "IPY_MODEL_a5917dfd96aa4292a6f65cef44e1277f",
              "IPY_MODEL_27866857c2a7420cb4a8b917d8a6e438"
            ],
            "layout": "IPY_MODEL_b2db776521fe4d1eb0a77fbf7aaf0102"
          }
        },
        "ed08a3c3dd2d43b7a6e1f03982b4d1e0": {
          "model_module": "@jupyter-widgets/controls",
          "model_name": "HTMLModel",
          "model_module_version": "1.5.0",
          "state": {
            "_dom_classes": [],
            "_model_module": "@jupyter-widgets/controls",
            "_model_module_version": "1.5.0",
            "_model_name": "HTMLModel",
            "_view_count": null,
            "_view_module": "@jupyter-widgets/controls",
            "_view_module_version": "1.5.0",
            "_view_name": "HTMLView",
            "description": "",
            "description_tooltip": null,
            "layout": "IPY_MODEL_fb1e551f795c46e69be430bbce6dc598",
            "placeholder": "​",
            "style": "IPY_MODEL_b8810d5776084a7fba780e34389c21ab",
            "value": "vocab.txt: 100%"
          }
        },
        "a5917dfd96aa4292a6f65cef44e1277f": {
          "model_module": "@jupyter-widgets/controls",
          "model_name": "FloatProgressModel",
          "model_module_version": "1.5.0",
          "state": {
            "_dom_classes": [],
            "_model_module": "@jupyter-widgets/controls",
            "_model_module_version": "1.5.0",
            "_model_name": "FloatProgressModel",
            "_view_count": null,
            "_view_module": "@jupyter-widgets/controls",
            "_view_module_version": "1.5.0",
            "_view_name": "ProgressView",
            "bar_style": "success",
            "description": "",
            "description_tooltip": null,
            "layout": "IPY_MODEL_f1883cf1e25a4979a7b9f04bdee6d90e",
            "max": 213450,
            "min": 0,
            "orientation": "horizontal",
            "style": "IPY_MODEL_4eb859f5ebba47baaf219f970723c590",
            "value": 213450
          }
        },
        "27866857c2a7420cb4a8b917d8a6e438": {
          "model_module": "@jupyter-widgets/controls",
          "model_name": "HTMLModel",
          "model_module_version": "1.5.0",
          "state": {
            "_dom_classes": [],
            "_model_module": "@jupyter-widgets/controls",
            "_model_module_version": "1.5.0",
            "_model_name": "HTMLModel",
            "_view_count": null,
            "_view_module": "@jupyter-widgets/controls",
            "_view_module_version": "1.5.0",
            "_view_name": "HTMLView",
            "description": "",
            "description_tooltip": null,
            "layout": "IPY_MODEL_5607939c99054ab7a46a950eaf68a242",
            "placeholder": "​",
            "style": "IPY_MODEL_8a370350dff8433781ce46d6b2e458b1",
            "value": " 213k/213k [00:00&lt;00:00, 2.71MB/s]"
          }
        },
        "b2db776521fe4d1eb0a77fbf7aaf0102": {
          "model_module": "@jupyter-widgets/base",
          "model_name": "LayoutModel",
          "model_module_version": "1.2.0",
          "state": {
            "_model_module": "@jupyter-widgets/base",
            "_model_module_version": "1.2.0",
            "_model_name": "LayoutModel",
            "_view_count": null,
            "_view_module": "@jupyter-widgets/base",
            "_view_module_version": "1.2.0",
            "_view_name": "LayoutView",
            "align_content": null,
            "align_items": null,
            "align_self": null,
            "border": null,
            "bottom": null,
            "display": null,
            "flex": null,
            "flex_flow": null,
            "grid_area": null,
            "grid_auto_columns": null,
            "grid_auto_flow": null,
            "grid_auto_rows": null,
            "grid_column": null,
            "grid_gap": null,
            "grid_row": null,
            "grid_template_areas": null,
            "grid_template_columns": null,
            "grid_template_rows": null,
            "height": null,
            "justify_content": null,
            "justify_items": null,
            "left": null,
            "margin": null,
            "max_height": null,
            "max_width": null,
            "min_height": null,
            "min_width": null,
            "object_fit": null,
            "object_position": null,
            "order": null,
            "overflow": null,
            "overflow_x": null,
            "overflow_y": null,
            "padding": null,
            "right": null,
            "top": null,
            "visibility": null,
            "width": null
          }
        },
        "fb1e551f795c46e69be430bbce6dc598": {
          "model_module": "@jupyter-widgets/base",
          "model_name": "LayoutModel",
          "model_module_version": "1.2.0",
          "state": {
            "_model_module": "@jupyter-widgets/base",
            "_model_module_version": "1.2.0",
            "_model_name": "LayoutModel",
            "_view_count": null,
            "_view_module": "@jupyter-widgets/base",
            "_view_module_version": "1.2.0",
            "_view_name": "LayoutView",
            "align_content": null,
            "align_items": null,
            "align_self": null,
            "border": null,
            "bottom": null,
            "display": null,
            "flex": null,
            "flex_flow": null,
            "grid_area": null,
            "grid_auto_columns": null,
            "grid_auto_flow": null,
            "grid_auto_rows": null,
            "grid_column": null,
            "grid_gap": null,
            "grid_row": null,
            "grid_template_areas": null,
            "grid_template_columns": null,
            "grid_template_rows": null,
            "height": null,
            "justify_content": null,
            "justify_items": null,
            "left": null,
            "margin": null,
            "max_height": null,
            "max_width": null,
            "min_height": null,
            "min_width": null,
            "object_fit": null,
            "object_position": null,
            "order": null,
            "overflow": null,
            "overflow_x": null,
            "overflow_y": null,
            "padding": null,
            "right": null,
            "top": null,
            "visibility": null,
            "width": null
          }
        },
        "b8810d5776084a7fba780e34389c21ab": {
          "model_module": "@jupyter-widgets/controls",
          "model_name": "DescriptionStyleModel",
          "model_module_version": "1.5.0",
          "state": {
            "_model_module": "@jupyter-widgets/controls",
            "_model_module_version": "1.5.0",
            "_model_name": "DescriptionStyleModel",
            "_view_count": null,
            "_view_module": "@jupyter-widgets/base",
            "_view_module_version": "1.2.0",
            "_view_name": "StyleView",
            "description_width": ""
          }
        },
        "f1883cf1e25a4979a7b9f04bdee6d90e": {
          "model_module": "@jupyter-widgets/base",
          "model_name": "LayoutModel",
          "model_module_version": "1.2.0",
          "state": {
            "_model_module": "@jupyter-widgets/base",
            "_model_module_version": "1.2.0",
            "_model_name": "LayoutModel",
            "_view_count": null,
            "_view_module": "@jupyter-widgets/base",
            "_view_module_version": "1.2.0",
            "_view_name": "LayoutView",
            "align_content": null,
            "align_items": null,
            "align_self": null,
            "border": null,
            "bottom": null,
            "display": null,
            "flex": null,
            "flex_flow": null,
            "grid_area": null,
            "grid_auto_columns": null,
            "grid_auto_flow": null,
            "grid_auto_rows": null,
            "grid_column": null,
            "grid_gap": null,
            "grid_row": null,
            "grid_template_areas": null,
            "grid_template_columns": null,
            "grid_template_rows": null,
            "height": null,
            "justify_content": null,
            "justify_items": null,
            "left": null,
            "margin": null,
            "max_height": null,
            "max_width": null,
            "min_height": null,
            "min_width": null,
            "object_fit": null,
            "object_position": null,
            "order": null,
            "overflow": null,
            "overflow_x": null,
            "overflow_y": null,
            "padding": null,
            "right": null,
            "top": null,
            "visibility": null,
            "width": null
          }
        },
        "4eb859f5ebba47baaf219f970723c590": {
          "model_module": "@jupyter-widgets/controls",
          "model_name": "ProgressStyleModel",
          "model_module_version": "1.5.0",
          "state": {
            "_model_module": "@jupyter-widgets/controls",
            "_model_module_version": "1.5.0",
            "_model_name": "ProgressStyleModel",
            "_view_count": null,
            "_view_module": "@jupyter-widgets/base",
            "_view_module_version": "1.2.0",
            "_view_name": "StyleView",
            "bar_color": null,
            "description_width": ""
          }
        },
        "5607939c99054ab7a46a950eaf68a242": {
          "model_module": "@jupyter-widgets/base",
          "model_name": "LayoutModel",
          "model_module_version": "1.2.0",
          "state": {
            "_model_module": "@jupyter-widgets/base",
            "_model_module_version": "1.2.0",
            "_model_name": "LayoutModel",
            "_view_count": null,
            "_view_module": "@jupyter-widgets/base",
            "_view_module_version": "1.2.0",
            "_view_name": "LayoutView",
            "align_content": null,
            "align_items": null,
            "align_self": null,
            "border": null,
            "bottom": null,
            "display": null,
            "flex": null,
            "flex_flow": null,
            "grid_area": null,
            "grid_auto_columns": null,
            "grid_auto_flow": null,
            "grid_auto_rows": null,
            "grid_column": null,
            "grid_gap": null,
            "grid_row": null,
            "grid_template_areas": null,
            "grid_template_columns": null,
            "grid_template_rows": null,
            "height": null,
            "justify_content": null,
            "justify_items": null,
            "left": null,
            "margin": null,
            "max_height": null,
            "max_width": null,
            "min_height": null,
            "min_width": null,
            "object_fit": null,
            "object_position": null,
            "order": null,
            "overflow": null,
            "overflow_x": null,
            "overflow_y": null,
            "padding": null,
            "right": null,
            "top": null,
            "visibility": null,
            "width": null
          }
        },
        "8a370350dff8433781ce46d6b2e458b1": {
          "model_module": "@jupyter-widgets/controls",
          "model_name": "DescriptionStyleModel",
          "model_module_version": "1.5.0",
          "state": {
            "_model_module": "@jupyter-widgets/controls",
            "_model_module_version": "1.5.0",
            "_model_name": "DescriptionStyleModel",
            "_view_count": null,
            "_view_module": "@jupyter-widgets/base",
            "_view_module_version": "1.2.0",
            "_view_name": "StyleView",
            "description_width": ""
          }
        },
        "ab870094f11246589809df27cc052c32": {
          "model_module": "@jupyter-widgets/controls",
          "model_name": "HBoxModel",
          "model_module_version": "1.5.0",
          "state": {
            "_dom_classes": [],
            "_model_module": "@jupyter-widgets/controls",
            "_model_module_version": "1.5.0",
            "_model_name": "HBoxModel",
            "_view_count": null,
            "_view_module": "@jupyter-widgets/controls",
            "_view_module_version": "1.5.0",
            "_view_name": "HBoxView",
            "box_style": "",
            "children": [
              "IPY_MODEL_4c13a98ca497496581d6ecba02563be5",
              "IPY_MODEL_c74f0cbcfb8f43afab71a49af95243e8",
              "IPY_MODEL_dd71ea04abb44fb4aaf4a3731e6b25a4"
            ],
            "layout": "IPY_MODEL_3dab09164bab4132b66d12ce86f58fd1"
          }
        },
        "4c13a98ca497496581d6ecba02563be5": {
          "model_module": "@jupyter-widgets/controls",
          "model_name": "HTMLModel",
          "model_module_version": "1.5.0",
          "state": {
            "_dom_classes": [],
            "_model_module": "@jupyter-widgets/controls",
            "_model_module_version": "1.5.0",
            "_model_name": "HTMLModel",
            "_view_count": null,
            "_view_module": "@jupyter-widgets/controls",
            "_view_module_version": "1.5.0",
            "_view_name": "HTMLView",
            "description": "",
            "description_tooltip": null,
            "layout": "IPY_MODEL_38709505f954432781523a20fddc97e6",
            "placeholder": "​",
            "style": "IPY_MODEL_eb9e06f9f6e94f038d2a568b40be52bd",
            "value": "tokenizer.json: 100%"
          }
        },
        "c74f0cbcfb8f43afab71a49af95243e8": {
          "model_module": "@jupyter-widgets/controls",
          "model_name": "FloatProgressModel",
          "model_module_version": "1.5.0",
          "state": {
            "_dom_classes": [],
            "_model_module": "@jupyter-widgets/controls",
            "_model_module_version": "1.5.0",
            "_model_name": "FloatProgressModel",
            "_view_count": null,
            "_view_module": "@jupyter-widgets/controls",
            "_view_module_version": "1.5.0",
            "_view_name": "ProgressView",
            "bar_style": "success",
            "description": "",
            "description_tooltip": null,
            "layout": "IPY_MODEL_e5cb4547361847eab1e5700dce4bd8d0",
            "max": 435797,
            "min": 0,
            "orientation": "horizontal",
            "style": "IPY_MODEL_7efa23309a2e4adf8d620acfda1f0c28",
            "value": 435797
          }
        },
        "dd71ea04abb44fb4aaf4a3731e6b25a4": {
          "model_module": "@jupyter-widgets/controls",
          "model_name": "HTMLModel",
          "model_module_version": "1.5.0",
          "state": {
            "_dom_classes": [],
            "_model_module": "@jupyter-widgets/controls",
            "_model_module_version": "1.5.0",
            "_model_name": "HTMLModel",
            "_view_count": null,
            "_view_module": "@jupyter-widgets/controls",
            "_view_module_version": "1.5.0",
            "_view_name": "HTMLView",
            "description": "",
            "description_tooltip": null,
            "layout": "IPY_MODEL_b1ef9ed0d4d04122abdedc8285813d56",
            "placeholder": "​",
            "style": "IPY_MODEL_ca53e92a84f04243a2f7fabf254e3f8d",
            "value": " 436k/436k [00:00&lt;00:00, 3.41MB/s]"
          }
        },
        "3dab09164bab4132b66d12ce86f58fd1": {
          "model_module": "@jupyter-widgets/base",
          "model_name": "LayoutModel",
          "model_module_version": "1.2.0",
          "state": {
            "_model_module": "@jupyter-widgets/base",
            "_model_module_version": "1.2.0",
            "_model_name": "LayoutModel",
            "_view_count": null,
            "_view_module": "@jupyter-widgets/base",
            "_view_module_version": "1.2.0",
            "_view_name": "LayoutView",
            "align_content": null,
            "align_items": null,
            "align_self": null,
            "border": null,
            "bottom": null,
            "display": null,
            "flex": null,
            "flex_flow": null,
            "grid_area": null,
            "grid_auto_columns": null,
            "grid_auto_flow": null,
            "grid_auto_rows": null,
            "grid_column": null,
            "grid_gap": null,
            "grid_row": null,
            "grid_template_areas": null,
            "grid_template_columns": null,
            "grid_template_rows": null,
            "height": null,
            "justify_content": null,
            "justify_items": null,
            "left": null,
            "margin": null,
            "max_height": null,
            "max_width": null,
            "min_height": null,
            "min_width": null,
            "object_fit": null,
            "object_position": null,
            "order": null,
            "overflow": null,
            "overflow_x": null,
            "overflow_y": null,
            "padding": null,
            "right": null,
            "top": null,
            "visibility": null,
            "width": null
          }
        },
        "38709505f954432781523a20fddc97e6": {
          "model_module": "@jupyter-widgets/base",
          "model_name": "LayoutModel",
          "model_module_version": "1.2.0",
          "state": {
            "_model_module": "@jupyter-widgets/base",
            "_model_module_version": "1.2.0",
            "_model_name": "LayoutModel",
            "_view_count": null,
            "_view_module": "@jupyter-widgets/base",
            "_view_module_version": "1.2.0",
            "_view_name": "LayoutView",
            "align_content": null,
            "align_items": null,
            "align_self": null,
            "border": null,
            "bottom": null,
            "display": null,
            "flex": null,
            "flex_flow": null,
            "grid_area": null,
            "grid_auto_columns": null,
            "grid_auto_flow": null,
            "grid_auto_rows": null,
            "grid_column": null,
            "grid_gap": null,
            "grid_row": null,
            "grid_template_areas": null,
            "grid_template_columns": null,
            "grid_template_rows": null,
            "height": null,
            "justify_content": null,
            "justify_items": null,
            "left": null,
            "margin": null,
            "max_height": null,
            "max_width": null,
            "min_height": null,
            "min_width": null,
            "object_fit": null,
            "object_position": null,
            "order": null,
            "overflow": null,
            "overflow_x": null,
            "overflow_y": null,
            "padding": null,
            "right": null,
            "top": null,
            "visibility": null,
            "width": null
          }
        },
        "eb9e06f9f6e94f038d2a568b40be52bd": {
          "model_module": "@jupyter-widgets/controls",
          "model_name": "DescriptionStyleModel",
          "model_module_version": "1.5.0",
          "state": {
            "_model_module": "@jupyter-widgets/controls",
            "_model_module_version": "1.5.0",
            "_model_name": "DescriptionStyleModel",
            "_view_count": null,
            "_view_module": "@jupyter-widgets/base",
            "_view_module_version": "1.2.0",
            "_view_name": "StyleView",
            "description_width": ""
          }
        },
        "e5cb4547361847eab1e5700dce4bd8d0": {
          "model_module": "@jupyter-widgets/base",
          "model_name": "LayoutModel",
          "model_module_version": "1.2.0",
          "state": {
            "_model_module": "@jupyter-widgets/base",
            "_model_module_version": "1.2.0",
            "_model_name": "LayoutModel",
            "_view_count": null,
            "_view_module": "@jupyter-widgets/base",
            "_view_module_version": "1.2.0",
            "_view_name": "LayoutView",
            "align_content": null,
            "align_items": null,
            "align_self": null,
            "border": null,
            "bottom": null,
            "display": null,
            "flex": null,
            "flex_flow": null,
            "grid_area": null,
            "grid_auto_columns": null,
            "grid_auto_flow": null,
            "grid_auto_rows": null,
            "grid_column": null,
            "grid_gap": null,
            "grid_row": null,
            "grid_template_areas": null,
            "grid_template_columns": null,
            "grid_template_rows": null,
            "height": null,
            "justify_content": null,
            "justify_items": null,
            "left": null,
            "margin": null,
            "max_height": null,
            "max_width": null,
            "min_height": null,
            "min_width": null,
            "object_fit": null,
            "object_position": null,
            "order": null,
            "overflow": null,
            "overflow_x": null,
            "overflow_y": null,
            "padding": null,
            "right": null,
            "top": null,
            "visibility": null,
            "width": null
          }
        },
        "7efa23309a2e4adf8d620acfda1f0c28": {
          "model_module": "@jupyter-widgets/controls",
          "model_name": "ProgressStyleModel",
          "model_module_version": "1.5.0",
          "state": {
            "_model_module": "@jupyter-widgets/controls",
            "_model_module_version": "1.5.0",
            "_model_name": "ProgressStyleModel",
            "_view_count": null,
            "_view_module": "@jupyter-widgets/base",
            "_view_module_version": "1.2.0",
            "_view_name": "StyleView",
            "bar_color": null,
            "description_width": ""
          }
        },
        "b1ef9ed0d4d04122abdedc8285813d56": {
          "model_module": "@jupyter-widgets/base",
          "model_name": "LayoutModel",
          "model_module_version": "1.2.0",
          "state": {
            "_model_module": "@jupyter-widgets/base",
            "_model_module_version": "1.2.0",
            "_model_name": "LayoutModel",
            "_view_count": null,
            "_view_module": "@jupyter-widgets/base",
            "_view_module_version": "1.2.0",
            "_view_name": "LayoutView",
            "align_content": null,
            "align_items": null,
            "align_self": null,
            "border": null,
            "bottom": null,
            "display": null,
            "flex": null,
            "flex_flow": null,
            "grid_area": null,
            "grid_auto_columns": null,
            "grid_auto_flow": null,
            "grid_auto_rows": null,
            "grid_column": null,
            "grid_gap": null,
            "grid_row": null,
            "grid_template_areas": null,
            "grid_template_columns": null,
            "grid_template_rows": null,
            "height": null,
            "justify_content": null,
            "justify_items": null,
            "left": null,
            "margin": null,
            "max_height": null,
            "max_width": null,
            "min_height": null,
            "min_width": null,
            "object_fit": null,
            "object_position": null,
            "order": null,
            "overflow": null,
            "overflow_x": null,
            "overflow_y": null,
            "padding": null,
            "right": null,
            "top": null,
            "visibility": null,
            "width": null
          }
        },
        "ca53e92a84f04243a2f7fabf254e3f8d": {
          "model_module": "@jupyter-widgets/controls",
          "model_name": "DescriptionStyleModel",
          "model_module_version": "1.5.0",
          "state": {
            "_model_module": "@jupyter-widgets/controls",
            "_model_module_version": "1.5.0",
            "_model_name": "DescriptionStyleModel",
            "_view_count": null,
            "_view_module": "@jupyter-widgets/base",
            "_view_module_version": "1.2.0",
            "_view_name": "StyleView",
            "description_width": ""
          }
        },
        "5e2febedce414eeba61a45aec914e05c": {
          "model_module": "@jupyter-widgets/controls",
          "model_name": "HBoxModel",
          "model_module_version": "1.5.0",
          "state": {
            "_dom_classes": [],
            "_model_module": "@jupyter-widgets/controls",
            "_model_module_version": "1.5.0",
            "_model_name": "HBoxModel",
            "_view_count": null,
            "_view_module": "@jupyter-widgets/controls",
            "_view_module_version": "1.5.0",
            "_view_name": "HBoxView",
            "box_style": "",
            "children": [
              "IPY_MODEL_824fac5325fe4266be1e203c1d1fc1e5",
              "IPY_MODEL_69bcf53cb7594eb893806a84d7bd5431",
              "IPY_MODEL_5d46a8a929304b99986279a434486227"
            ],
            "layout": "IPY_MODEL_d5dbad425ee34ebc9ceab0d6b001b399"
          }
        },
        "824fac5325fe4266be1e203c1d1fc1e5": {
          "model_module": "@jupyter-widgets/controls",
          "model_name": "HTMLModel",
          "model_module_version": "1.5.0",
          "state": {
            "_dom_classes": [],
            "_model_module": "@jupyter-widgets/controls",
            "_model_module_version": "1.5.0",
            "_model_name": "HTMLModel",
            "_view_count": null,
            "_view_module": "@jupyter-widgets/controls",
            "_view_module_version": "1.5.0",
            "_view_name": "HTMLView",
            "description": "",
            "description_tooltip": null,
            "layout": "IPY_MODEL_5620421e4ad04b5491ad8fb8d4a4fa9b",
            "placeholder": "​",
            "style": "IPY_MODEL_f6ac51be241e49a084ec399d750701fb",
            "value": "Downloading data files: 100%"
          }
        },
        "69bcf53cb7594eb893806a84d7bd5431": {
          "model_module": "@jupyter-widgets/controls",
          "model_name": "FloatProgressModel",
          "model_module_version": "1.5.0",
          "state": {
            "_dom_classes": [],
            "_model_module": "@jupyter-widgets/controls",
            "_model_module_version": "1.5.0",
            "_model_name": "FloatProgressModel",
            "_view_count": null,
            "_view_module": "@jupyter-widgets/controls",
            "_view_module_version": "1.5.0",
            "_view_name": "ProgressView",
            "bar_style": "success",
            "description": "",
            "description_tooltip": null,
            "layout": "IPY_MODEL_7fdc0c6c4c774c4bbe5719c3c8c52035",
            "max": 1,
            "min": 0,
            "orientation": "horizontal",
            "style": "IPY_MODEL_efdcb77e54f0480cb3252bdd881e8b15",
            "value": 1
          }
        },
        "5d46a8a929304b99986279a434486227": {
          "model_module": "@jupyter-widgets/controls",
          "model_name": "HTMLModel",
          "model_module_version": "1.5.0",
          "state": {
            "_dom_classes": [],
            "_model_module": "@jupyter-widgets/controls",
            "_model_module_version": "1.5.0",
            "_model_name": "HTMLModel",
            "_view_count": null,
            "_view_module": "@jupyter-widgets/controls",
            "_view_module_version": "1.5.0",
            "_view_name": "HTMLView",
            "description": "",
            "description_tooltip": null,
            "layout": "IPY_MODEL_17a4b7c381fa49f78e9c646cd7309152",
            "placeholder": "​",
            "style": "IPY_MODEL_9c51ff11a97a47f4ac2fc1279e0b4256",
            "value": " 1/1 [00:00&lt;00:00, 15.40it/s]"
          }
        },
        "d5dbad425ee34ebc9ceab0d6b001b399": {
          "model_module": "@jupyter-widgets/base",
          "model_name": "LayoutModel",
          "model_module_version": "1.2.0",
          "state": {
            "_model_module": "@jupyter-widgets/base",
            "_model_module_version": "1.2.0",
            "_model_name": "LayoutModel",
            "_view_count": null,
            "_view_module": "@jupyter-widgets/base",
            "_view_module_version": "1.2.0",
            "_view_name": "LayoutView",
            "align_content": null,
            "align_items": null,
            "align_self": null,
            "border": null,
            "bottom": null,
            "display": null,
            "flex": null,
            "flex_flow": null,
            "grid_area": null,
            "grid_auto_columns": null,
            "grid_auto_flow": null,
            "grid_auto_rows": null,
            "grid_column": null,
            "grid_gap": null,
            "grid_row": null,
            "grid_template_areas": null,
            "grid_template_columns": null,
            "grid_template_rows": null,
            "height": null,
            "justify_content": null,
            "justify_items": null,
            "left": null,
            "margin": null,
            "max_height": null,
            "max_width": null,
            "min_height": null,
            "min_width": null,
            "object_fit": null,
            "object_position": null,
            "order": null,
            "overflow": null,
            "overflow_x": null,
            "overflow_y": null,
            "padding": null,
            "right": null,
            "top": null,
            "visibility": null,
            "width": null
          }
        },
        "5620421e4ad04b5491ad8fb8d4a4fa9b": {
          "model_module": "@jupyter-widgets/base",
          "model_name": "LayoutModel",
          "model_module_version": "1.2.0",
          "state": {
            "_model_module": "@jupyter-widgets/base",
            "_model_module_version": "1.2.0",
            "_model_name": "LayoutModel",
            "_view_count": null,
            "_view_module": "@jupyter-widgets/base",
            "_view_module_version": "1.2.0",
            "_view_name": "LayoutView",
            "align_content": null,
            "align_items": null,
            "align_self": null,
            "border": null,
            "bottom": null,
            "display": null,
            "flex": null,
            "flex_flow": null,
            "grid_area": null,
            "grid_auto_columns": null,
            "grid_auto_flow": null,
            "grid_auto_rows": null,
            "grid_column": null,
            "grid_gap": null,
            "grid_row": null,
            "grid_template_areas": null,
            "grid_template_columns": null,
            "grid_template_rows": null,
            "height": null,
            "justify_content": null,
            "justify_items": null,
            "left": null,
            "margin": null,
            "max_height": null,
            "max_width": null,
            "min_height": null,
            "min_width": null,
            "object_fit": null,
            "object_position": null,
            "order": null,
            "overflow": null,
            "overflow_x": null,
            "overflow_y": null,
            "padding": null,
            "right": null,
            "top": null,
            "visibility": null,
            "width": null
          }
        },
        "f6ac51be241e49a084ec399d750701fb": {
          "model_module": "@jupyter-widgets/controls",
          "model_name": "DescriptionStyleModel",
          "model_module_version": "1.5.0",
          "state": {
            "_model_module": "@jupyter-widgets/controls",
            "_model_module_version": "1.5.0",
            "_model_name": "DescriptionStyleModel",
            "_view_count": null,
            "_view_module": "@jupyter-widgets/base",
            "_view_module_version": "1.2.0",
            "_view_name": "StyleView",
            "description_width": ""
          }
        },
        "7fdc0c6c4c774c4bbe5719c3c8c52035": {
          "model_module": "@jupyter-widgets/base",
          "model_name": "LayoutModel",
          "model_module_version": "1.2.0",
          "state": {
            "_model_module": "@jupyter-widgets/base",
            "_model_module_version": "1.2.0",
            "_model_name": "LayoutModel",
            "_view_count": null,
            "_view_module": "@jupyter-widgets/base",
            "_view_module_version": "1.2.0",
            "_view_name": "LayoutView",
            "align_content": null,
            "align_items": null,
            "align_self": null,
            "border": null,
            "bottom": null,
            "display": null,
            "flex": null,
            "flex_flow": null,
            "grid_area": null,
            "grid_auto_columns": null,
            "grid_auto_flow": null,
            "grid_auto_rows": null,
            "grid_column": null,
            "grid_gap": null,
            "grid_row": null,
            "grid_template_areas": null,
            "grid_template_columns": null,
            "grid_template_rows": null,
            "height": null,
            "justify_content": null,
            "justify_items": null,
            "left": null,
            "margin": null,
            "max_height": null,
            "max_width": null,
            "min_height": null,
            "min_width": null,
            "object_fit": null,
            "object_position": null,
            "order": null,
            "overflow": null,
            "overflow_x": null,
            "overflow_y": null,
            "padding": null,
            "right": null,
            "top": null,
            "visibility": null,
            "width": null
          }
        },
        "efdcb77e54f0480cb3252bdd881e8b15": {
          "model_module": "@jupyter-widgets/controls",
          "model_name": "ProgressStyleModel",
          "model_module_version": "1.5.0",
          "state": {
            "_model_module": "@jupyter-widgets/controls",
            "_model_module_version": "1.5.0",
            "_model_name": "ProgressStyleModel",
            "_view_count": null,
            "_view_module": "@jupyter-widgets/base",
            "_view_module_version": "1.2.0",
            "_view_name": "StyleView",
            "bar_color": null,
            "description_width": ""
          }
        },
        "17a4b7c381fa49f78e9c646cd7309152": {
          "model_module": "@jupyter-widgets/base",
          "model_name": "LayoutModel",
          "model_module_version": "1.2.0",
          "state": {
            "_model_module": "@jupyter-widgets/base",
            "_model_module_version": "1.2.0",
            "_model_name": "LayoutModel",
            "_view_count": null,
            "_view_module": "@jupyter-widgets/base",
            "_view_module_version": "1.2.0",
            "_view_name": "LayoutView",
            "align_content": null,
            "align_items": null,
            "align_self": null,
            "border": null,
            "bottom": null,
            "display": null,
            "flex": null,
            "flex_flow": null,
            "grid_area": null,
            "grid_auto_columns": null,
            "grid_auto_flow": null,
            "grid_auto_rows": null,
            "grid_column": null,
            "grid_gap": null,
            "grid_row": null,
            "grid_template_areas": null,
            "grid_template_columns": null,
            "grid_template_rows": null,
            "height": null,
            "justify_content": null,
            "justify_items": null,
            "left": null,
            "margin": null,
            "max_height": null,
            "max_width": null,
            "min_height": null,
            "min_width": null,
            "object_fit": null,
            "object_position": null,
            "order": null,
            "overflow": null,
            "overflow_x": null,
            "overflow_y": null,
            "padding": null,
            "right": null,
            "top": null,
            "visibility": null,
            "width": null
          }
        },
        "9c51ff11a97a47f4ac2fc1279e0b4256": {
          "model_module": "@jupyter-widgets/controls",
          "model_name": "DescriptionStyleModel",
          "model_module_version": "1.5.0",
          "state": {
            "_model_module": "@jupyter-widgets/controls",
            "_model_module_version": "1.5.0",
            "_model_name": "DescriptionStyleModel",
            "_view_count": null,
            "_view_module": "@jupyter-widgets/base",
            "_view_module_version": "1.2.0",
            "_view_name": "StyleView",
            "description_width": ""
          }
        },
        "dab3d8595f8d4e9b9d8bcdec6964e03c": {
          "model_module": "@jupyter-widgets/controls",
          "model_name": "HBoxModel",
          "model_module_version": "1.5.0",
          "state": {
            "_dom_classes": [],
            "_model_module": "@jupyter-widgets/controls",
            "_model_module_version": "1.5.0",
            "_model_name": "HBoxModel",
            "_view_count": null,
            "_view_module": "@jupyter-widgets/controls",
            "_view_module_version": "1.5.0",
            "_view_name": "HBoxView",
            "box_style": "",
            "children": [
              "IPY_MODEL_5b9489789bf1482fb9416207e82a6d5c",
              "IPY_MODEL_fa616caf337541528e08d78eb9b57730",
              "IPY_MODEL_8205052542e642adb6715261251ea304"
            ],
            "layout": "IPY_MODEL_e8a5d5269e1e42ee81cb53cad2b870d1"
          }
        },
        "5b9489789bf1482fb9416207e82a6d5c": {
          "model_module": "@jupyter-widgets/controls",
          "model_name": "HTMLModel",
          "model_module_version": "1.5.0",
          "state": {
            "_dom_classes": [],
            "_model_module": "@jupyter-widgets/controls",
            "_model_module_version": "1.5.0",
            "_model_name": "HTMLModel",
            "_view_count": null,
            "_view_module": "@jupyter-widgets/controls",
            "_view_module_version": "1.5.0",
            "_view_name": "HTMLView",
            "description": "",
            "description_tooltip": null,
            "layout": "IPY_MODEL_cd12eb0ffdb04e428613466f4a2cd037",
            "placeholder": "​",
            "style": "IPY_MODEL_79581e02e5654faaa95b921a3e0056b1",
            "value": "Extracting data files: 100%"
          }
        },
        "fa616caf337541528e08d78eb9b57730": {
          "model_module": "@jupyter-widgets/controls",
          "model_name": "FloatProgressModel",
          "model_module_version": "1.5.0",
          "state": {
            "_dom_classes": [],
            "_model_module": "@jupyter-widgets/controls",
            "_model_module_version": "1.5.0",
            "_model_name": "FloatProgressModel",
            "_view_count": null,
            "_view_module": "@jupyter-widgets/controls",
            "_view_module_version": "1.5.0",
            "_view_name": "ProgressView",
            "bar_style": "success",
            "description": "",
            "description_tooltip": null,
            "layout": "IPY_MODEL_0a9660b060cb44d09845f2c917ab7ce9",
            "max": 1,
            "min": 0,
            "orientation": "horizontal",
            "style": "IPY_MODEL_a3af973e0e684eaead1e732b790021a6",
            "value": 1
          }
        },
        "8205052542e642adb6715261251ea304": {
          "model_module": "@jupyter-widgets/controls",
          "model_name": "HTMLModel",
          "model_module_version": "1.5.0",
          "state": {
            "_dom_classes": [],
            "_model_module": "@jupyter-widgets/controls",
            "_model_module_version": "1.5.0",
            "_model_name": "HTMLModel",
            "_view_count": null,
            "_view_module": "@jupyter-widgets/controls",
            "_view_module_version": "1.5.0",
            "_view_name": "HTMLView",
            "description": "",
            "description_tooltip": null,
            "layout": "IPY_MODEL_0697a96a3b574081b5d275e25c3665cc",
            "placeholder": "​",
            "style": "IPY_MODEL_3fe34f01e7b645e688a2f2afa2f01ba2",
            "value": " 1/1 [00:00&lt;00:00, 31.17it/s]"
          }
        },
        "e8a5d5269e1e42ee81cb53cad2b870d1": {
          "model_module": "@jupyter-widgets/base",
          "model_name": "LayoutModel",
          "model_module_version": "1.2.0",
          "state": {
            "_model_module": "@jupyter-widgets/base",
            "_model_module_version": "1.2.0",
            "_model_name": "LayoutModel",
            "_view_count": null,
            "_view_module": "@jupyter-widgets/base",
            "_view_module_version": "1.2.0",
            "_view_name": "LayoutView",
            "align_content": null,
            "align_items": null,
            "align_self": null,
            "border": null,
            "bottom": null,
            "display": null,
            "flex": null,
            "flex_flow": null,
            "grid_area": null,
            "grid_auto_columns": null,
            "grid_auto_flow": null,
            "grid_auto_rows": null,
            "grid_column": null,
            "grid_gap": null,
            "grid_row": null,
            "grid_template_areas": null,
            "grid_template_columns": null,
            "grid_template_rows": null,
            "height": null,
            "justify_content": null,
            "justify_items": null,
            "left": null,
            "margin": null,
            "max_height": null,
            "max_width": null,
            "min_height": null,
            "min_width": null,
            "object_fit": null,
            "object_position": null,
            "order": null,
            "overflow": null,
            "overflow_x": null,
            "overflow_y": null,
            "padding": null,
            "right": null,
            "top": null,
            "visibility": null,
            "width": null
          }
        },
        "cd12eb0ffdb04e428613466f4a2cd037": {
          "model_module": "@jupyter-widgets/base",
          "model_name": "LayoutModel",
          "model_module_version": "1.2.0",
          "state": {
            "_model_module": "@jupyter-widgets/base",
            "_model_module_version": "1.2.0",
            "_model_name": "LayoutModel",
            "_view_count": null,
            "_view_module": "@jupyter-widgets/base",
            "_view_module_version": "1.2.0",
            "_view_name": "LayoutView",
            "align_content": null,
            "align_items": null,
            "align_self": null,
            "border": null,
            "bottom": null,
            "display": null,
            "flex": null,
            "flex_flow": null,
            "grid_area": null,
            "grid_auto_columns": null,
            "grid_auto_flow": null,
            "grid_auto_rows": null,
            "grid_column": null,
            "grid_gap": null,
            "grid_row": null,
            "grid_template_areas": null,
            "grid_template_columns": null,
            "grid_template_rows": null,
            "height": null,
            "justify_content": null,
            "justify_items": null,
            "left": null,
            "margin": null,
            "max_height": null,
            "max_width": null,
            "min_height": null,
            "min_width": null,
            "object_fit": null,
            "object_position": null,
            "order": null,
            "overflow": null,
            "overflow_x": null,
            "overflow_y": null,
            "padding": null,
            "right": null,
            "top": null,
            "visibility": null,
            "width": null
          }
        },
        "79581e02e5654faaa95b921a3e0056b1": {
          "model_module": "@jupyter-widgets/controls",
          "model_name": "DescriptionStyleModel",
          "model_module_version": "1.5.0",
          "state": {
            "_model_module": "@jupyter-widgets/controls",
            "_model_module_version": "1.5.0",
            "_model_name": "DescriptionStyleModel",
            "_view_count": null,
            "_view_module": "@jupyter-widgets/base",
            "_view_module_version": "1.2.0",
            "_view_name": "StyleView",
            "description_width": ""
          }
        },
        "0a9660b060cb44d09845f2c917ab7ce9": {
          "model_module": "@jupyter-widgets/base",
          "model_name": "LayoutModel",
          "model_module_version": "1.2.0",
          "state": {
            "_model_module": "@jupyter-widgets/base",
            "_model_module_version": "1.2.0",
            "_model_name": "LayoutModel",
            "_view_count": null,
            "_view_module": "@jupyter-widgets/base",
            "_view_module_version": "1.2.0",
            "_view_name": "LayoutView",
            "align_content": null,
            "align_items": null,
            "align_self": null,
            "border": null,
            "bottom": null,
            "display": null,
            "flex": null,
            "flex_flow": null,
            "grid_area": null,
            "grid_auto_columns": null,
            "grid_auto_flow": null,
            "grid_auto_rows": null,
            "grid_column": null,
            "grid_gap": null,
            "grid_row": null,
            "grid_template_areas": null,
            "grid_template_columns": null,
            "grid_template_rows": null,
            "height": null,
            "justify_content": null,
            "justify_items": null,
            "left": null,
            "margin": null,
            "max_height": null,
            "max_width": null,
            "min_height": null,
            "min_width": null,
            "object_fit": null,
            "object_position": null,
            "order": null,
            "overflow": null,
            "overflow_x": null,
            "overflow_y": null,
            "padding": null,
            "right": null,
            "top": null,
            "visibility": null,
            "width": null
          }
        },
        "a3af973e0e684eaead1e732b790021a6": {
          "model_module": "@jupyter-widgets/controls",
          "model_name": "ProgressStyleModel",
          "model_module_version": "1.5.0",
          "state": {
            "_model_module": "@jupyter-widgets/controls",
            "_model_module_version": "1.5.0",
            "_model_name": "ProgressStyleModel",
            "_view_count": null,
            "_view_module": "@jupyter-widgets/base",
            "_view_module_version": "1.2.0",
            "_view_name": "StyleView",
            "bar_color": null,
            "description_width": ""
          }
        },
        "0697a96a3b574081b5d275e25c3665cc": {
          "model_module": "@jupyter-widgets/base",
          "model_name": "LayoutModel",
          "model_module_version": "1.2.0",
          "state": {
            "_model_module": "@jupyter-widgets/base",
            "_model_module_version": "1.2.0",
            "_model_name": "LayoutModel",
            "_view_count": null,
            "_view_module": "@jupyter-widgets/base",
            "_view_module_version": "1.2.0",
            "_view_name": "LayoutView",
            "align_content": null,
            "align_items": null,
            "align_self": null,
            "border": null,
            "bottom": null,
            "display": null,
            "flex": null,
            "flex_flow": null,
            "grid_area": null,
            "grid_auto_columns": null,
            "grid_auto_flow": null,
            "grid_auto_rows": null,
            "grid_column": null,
            "grid_gap": null,
            "grid_row": null,
            "grid_template_areas": null,
            "grid_template_columns": null,
            "grid_template_rows": null,
            "height": null,
            "justify_content": null,
            "justify_items": null,
            "left": null,
            "margin": null,
            "max_height": null,
            "max_width": null,
            "min_height": null,
            "min_width": null,
            "object_fit": null,
            "object_position": null,
            "order": null,
            "overflow": null,
            "overflow_x": null,
            "overflow_y": null,
            "padding": null,
            "right": null,
            "top": null,
            "visibility": null,
            "width": null
          }
        },
        "3fe34f01e7b645e688a2f2afa2f01ba2": {
          "model_module": "@jupyter-widgets/controls",
          "model_name": "DescriptionStyleModel",
          "model_module_version": "1.5.0",
          "state": {
            "_model_module": "@jupyter-widgets/controls",
            "_model_module_version": "1.5.0",
            "_model_name": "DescriptionStyleModel",
            "_view_count": null,
            "_view_module": "@jupyter-widgets/base",
            "_view_module_version": "1.2.0",
            "_view_name": "StyleView",
            "description_width": ""
          }
        },
        "c1110d5bbe36407bbf5e2a33124c31bf": {
          "model_module": "@jupyter-widgets/controls",
          "model_name": "HBoxModel",
          "model_module_version": "1.5.0",
          "state": {
            "_dom_classes": [],
            "_model_module": "@jupyter-widgets/controls",
            "_model_module_version": "1.5.0",
            "_model_name": "HBoxModel",
            "_view_count": null,
            "_view_module": "@jupyter-widgets/controls",
            "_view_module_version": "1.5.0",
            "_view_name": "HBoxView",
            "box_style": "",
            "children": [
              "IPY_MODEL_49c6f92b57c247ada62163987c23f3c7",
              "IPY_MODEL_4b943a87f3da482a82833ee5052a527a",
              "IPY_MODEL_37cb80e8c6804518a31115cdf21da241"
            ],
            "layout": "IPY_MODEL_d1c8b92fcf214c7ba315201d594c3bbb"
          }
        },
        "49c6f92b57c247ada62163987c23f3c7": {
          "model_module": "@jupyter-widgets/controls",
          "model_name": "HTMLModel",
          "model_module_version": "1.5.0",
          "state": {
            "_dom_classes": [],
            "_model_module": "@jupyter-widgets/controls",
            "_model_module_version": "1.5.0",
            "_model_name": "HTMLModel",
            "_view_count": null,
            "_view_module": "@jupyter-widgets/controls",
            "_view_module_version": "1.5.0",
            "_view_name": "HTMLView",
            "description": "",
            "description_tooltip": null,
            "layout": "IPY_MODEL_eb250f5ce4124f6a9d4c534f2af14a08",
            "placeholder": "​",
            "style": "IPY_MODEL_a7a5e2e5baac4dd684b6ce839acb7081",
            "value": "Generating train split: "
          }
        },
        "4b943a87f3da482a82833ee5052a527a": {
          "model_module": "@jupyter-widgets/controls",
          "model_name": "FloatProgressModel",
          "model_module_version": "1.5.0",
          "state": {
            "_dom_classes": [],
            "_model_module": "@jupyter-widgets/controls",
            "_model_module_version": "1.5.0",
            "_model_name": "FloatProgressModel",
            "_view_count": null,
            "_view_module": "@jupyter-widgets/controls",
            "_view_module_version": "1.5.0",
            "_view_name": "ProgressView",
            "bar_style": "success",
            "description": "",
            "description_tooltip": null,
            "layout": "IPY_MODEL_f27b7199cb8241d0a9af9574db38ee48",
            "max": 1,
            "min": 0,
            "orientation": "horizontal",
            "style": "IPY_MODEL_f3b0d16efcfd4b76a0661970f9919237",
            "value": 1
          }
        },
        "37cb80e8c6804518a31115cdf21da241": {
          "model_module": "@jupyter-widgets/controls",
          "model_name": "HTMLModel",
          "model_module_version": "1.5.0",
          "state": {
            "_dom_classes": [],
            "_model_module": "@jupyter-widgets/controls",
            "_model_module_version": "1.5.0",
            "_model_name": "HTMLModel",
            "_view_count": null,
            "_view_module": "@jupyter-widgets/controls",
            "_view_module_version": "1.5.0",
            "_view_name": "HTMLView",
            "description": "",
            "description_tooltip": null,
            "layout": "IPY_MODEL_ce7f472ddad5400998528e3d99aefc5b",
            "placeholder": "​",
            "style": "IPY_MODEL_203cadc0c40744e3b58dbe069ecc7f23",
            "value": " 6867/0 [00:00&lt;00:00, 102122.37 examples/s]"
          }
        },
        "d1c8b92fcf214c7ba315201d594c3bbb": {
          "model_module": "@jupyter-widgets/base",
          "model_name": "LayoutModel",
          "model_module_version": "1.2.0",
          "state": {
            "_model_module": "@jupyter-widgets/base",
            "_model_module_version": "1.2.0",
            "_model_name": "LayoutModel",
            "_view_count": null,
            "_view_module": "@jupyter-widgets/base",
            "_view_module_version": "1.2.0",
            "_view_name": "LayoutView",
            "align_content": null,
            "align_items": null,
            "align_self": null,
            "border": null,
            "bottom": null,
            "display": null,
            "flex": null,
            "flex_flow": null,
            "grid_area": null,
            "grid_auto_columns": null,
            "grid_auto_flow": null,
            "grid_auto_rows": null,
            "grid_column": null,
            "grid_gap": null,
            "grid_row": null,
            "grid_template_areas": null,
            "grid_template_columns": null,
            "grid_template_rows": null,
            "height": null,
            "justify_content": null,
            "justify_items": null,
            "left": null,
            "margin": null,
            "max_height": null,
            "max_width": null,
            "min_height": null,
            "min_width": null,
            "object_fit": null,
            "object_position": null,
            "order": null,
            "overflow": null,
            "overflow_x": null,
            "overflow_y": null,
            "padding": null,
            "right": null,
            "top": null,
            "visibility": null,
            "width": null
          }
        },
        "eb250f5ce4124f6a9d4c534f2af14a08": {
          "model_module": "@jupyter-widgets/base",
          "model_name": "LayoutModel",
          "model_module_version": "1.2.0",
          "state": {
            "_model_module": "@jupyter-widgets/base",
            "_model_module_version": "1.2.0",
            "_model_name": "LayoutModel",
            "_view_count": null,
            "_view_module": "@jupyter-widgets/base",
            "_view_module_version": "1.2.0",
            "_view_name": "LayoutView",
            "align_content": null,
            "align_items": null,
            "align_self": null,
            "border": null,
            "bottom": null,
            "display": null,
            "flex": null,
            "flex_flow": null,
            "grid_area": null,
            "grid_auto_columns": null,
            "grid_auto_flow": null,
            "grid_auto_rows": null,
            "grid_column": null,
            "grid_gap": null,
            "grid_row": null,
            "grid_template_areas": null,
            "grid_template_columns": null,
            "grid_template_rows": null,
            "height": null,
            "justify_content": null,
            "justify_items": null,
            "left": null,
            "margin": null,
            "max_height": null,
            "max_width": null,
            "min_height": null,
            "min_width": null,
            "object_fit": null,
            "object_position": null,
            "order": null,
            "overflow": null,
            "overflow_x": null,
            "overflow_y": null,
            "padding": null,
            "right": null,
            "top": null,
            "visibility": null,
            "width": null
          }
        },
        "a7a5e2e5baac4dd684b6ce839acb7081": {
          "model_module": "@jupyter-widgets/controls",
          "model_name": "DescriptionStyleModel",
          "model_module_version": "1.5.0",
          "state": {
            "_model_module": "@jupyter-widgets/controls",
            "_model_module_version": "1.5.0",
            "_model_name": "DescriptionStyleModel",
            "_view_count": null,
            "_view_module": "@jupyter-widgets/base",
            "_view_module_version": "1.2.0",
            "_view_name": "StyleView",
            "description_width": ""
          }
        },
        "f27b7199cb8241d0a9af9574db38ee48": {
          "model_module": "@jupyter-widgets/base",
          "model_name": "LayoutModel",
          "model_module_version": "1.2.0",
          "state": {
            "_model_module": "@jupyter-widgets/base",
            "_model_module_version": "1.2.0",
            "_model_name": "LayoutModel",
            "_view_count": null,
            "_view_module": "@jupyter-widgets/base",
            "_view_module_version": "1.2.0",
            "_view_name": "LayoutView",
            "align_content": null,
            "align_items": null,
            "align_self": null,
            "border": null,
            "bottom": null,
            "display": null,
            "flex": null,
            "flex_flow": null,
            "grid_area": null,
            "grid_auto_columns": null,
            "grid_auto_flow": null,
            "grid_auto_rows": null,
            "grid_column": null,
            "grid_gap": null,
            "grid_row": null,
            "grid_template_areas": null,
            "grid_template_columns": null,
            "grid_template_rows": null,
            "height": null,
            "justify_content": null,
            "justify_items": null,
            "left": null,
            "margin": null,
            "max_height": null,
            "max_width": null,
            "min_height": null,
            "min_width": null,
            "object_fit": null,
            "object_position": null,
            "order": null,
            "overflow": null,
            "overflow_x": null,
            "overflow_y": null,
            "padding": null,
            "right": null,
            "top": null,
            "visibility": null,
            "width": "20px"
          }
        },
        "f3b0d16efcfd4b76a0661970f9919237": {
          "model_module": "@jupyter-widgets/controls",
          "model_name": "ProgressStyleModel",
          "model_module_version": "1.5.0",
          "state": {
            "_model_module": "@jupyter-widgets/controls",
            "_model_module_version": "1.5.0",
            "_model_name": "ProgressStyleModel",
            "_view_count": null,
            "_view_module": "@jupyter-widgets/base",
            "_view_module_version": "1.2.0",
            "_view_name": "StyleView",
            "bar_color": null,
            "description_width": ""
          }
        },
        "ce7f472ddad5400998528e3d99aefc5b": {
          "model_module": "@jupyter-widgets/base",
          "model_name": "LayoutModel",
          "model_module_version": "1.2.0",
          "state": {
            "_model_module": "@jupyter-widgets/base",
            "_model_module_version": "1.2.0",
            "_model_name": "LayoutModel",
            "_view_count": null,
            "_view_module": "@jupyter-widgets/base",
            "_view_module_version": "1.2.0",
            "_view_name": "LayoutView",
            "align_content": null,
            "align_items": null,
            "align_self": null,
            "border": null,
            "bottom": null,
            "display": null,
            "flex": null,
            "flex_flow": null,
            "grid_area": null,
            "grid_auto_columns": null,
            "grid_auto_flow": null,
            "grid_auto_rows": null,
            "grid_column": null,
            "grid_gap": null,
            "grid_row": null,
            "grid_template_areas": null,
            "grid_template_columns": null,
            "grid_template_rows": null,
            "height": null,
            "justify_content": null,
            "justify_items": null,
            "left": null,
            "margin": null,
            "max_height": null,
            "max_width": null,
            "min_height": null,
            "min_width": null,
            "object_fit": null,
            "object_position": null,
            "order": null,
            "overflow": null,
            "overflow_x": null,
            "overflow_y": null,
            "padding": null,
            "right": null,
            "top": null,
            "visibility": null,
            "width": null
          }
        },
        "203cadc0c40744e3b58dbe069ecc7f23": {
          "model_module": "@jupyter-widgets/controls",
          "model_name": "DescriptionStyleModel",
          "model_module_version": "1.5.0",
          "state": {
            "_model_module": "@jupyter-widgets/controls",
            "_model_module_version": "1.5.0",
            "_model_name": "DescriptionStyleModel",
            "_view_count": null,
            "_view_module": "@jupyter-widgets/base",
            "_view_module_version": "1.2.0",
            "_view_name": "StyleView",
            "description_width": ""
          }
        },
        "5517d74353354f72bdb59b18f7fa62dd": {
          "model_module": "@jupyter-widgets/controls",
          "model_name": "HBoxModel",
          "model_module_version": "1.5.0",
          "state": {
            "_dom_classes": [],
            "_model_module": "@jupyter-widgets/controls",
            "_model_module_version": "1.5.0",
            "_model_name": "HBoxModel",
            "_view_count": null,
            "_view_module": "@jupyter-widgets/controls",
            "_view_module_version": "1.5.0",
            "_view_name": "HBoxView",
            "box_style": "",
            "children": [
              "IPY_MODEL_87851dc23bda4a6297281c68fb7aecfe",
              "IPY_MODEL_784f4a5cff3d4b7da1b6bbdbc63505c3",
              "IPY_MODEL_bc44cf54136044bcb05bd604552bc98f"
            ],
            "layout": "IPY_MODEL_aab3159adc5c477daddad3d3f0716f84"
          }
        },
        "87851dc23bda4a6297281c68fb7aecfe": {
          "model_module": "@jupyter-widgets/controls",
          "model_name": "HTMLModel",
          "model_module_version": "1.5.0",
          "state": {
            "_dom_classes": [],
            "_model_module": "@jupyter-widgets/controls",
            "_model_module_version": "1.5.0",
            "_model_name": "HTMLModel",
            "_view_count": null,
            "_view_module": "@jupyter-widgets/controls",
            "_view_module_version": "1.5.0",
            "_view_name": "HTMLView",
            "description": "",
            "description_tooltip": null,
            "layout": "IPY_MODEL_af2e261303ed4a6fa63323f767e44fb8",
            "placeholder": "​",
            "style": "IPY_MODEL_80ed83921851426293bb198c68f443a2",
            "value": "Map: 100%"
          }
        },
        "784f4a5cff3d4b7da1b6bbdbc63505c3": {
          "model_module": "@jupyter-widgets/controls",
          "model_name": "FloatProgressModel",
          "model_module_version": "1.5.0",
          "state": {
            "_dom_classes": [],
            "_model_module": "@jupyter-widgets/controls",
            "_model_module_version": "1.5.0",
            "_model_name": "FloatProgressModel",
            "_view_count": null,
            "_view_module": "@jupyter-widgets/controls",
            "_view_module_version": "1.5.0",
            "_view_name": "ProgressView",
            "bar_style": "success",
            "description": "",
            "description_tooltip": null,
            "layout": "IPY_MODEL_ee65d3a2c55944828255bc0b2d7d4e89",
            "max": 6860,
            "min": 0,
            "orientation": "horizontal",
            "style": "IPY_MODEL_fcc7a192d5b8493b9948e5123b07e510",
            "value": 6860
          }
        },
        "bc44cf54136044bcb05bd604552bc98f": {
          "model_module": "@jupyter-widgets/controls",
          "model_name": "HTMLModel",
          "model_module_version": "1.5.0",
          "state": {
            "_dom_classes": [],
            "_model_module": "@jupyter-widgets/controls",
            "_model_module_version": "1.5.0",
            "_model_name": "HTMLModel",
            "_view_count": null,
            "_view_module": "@jupyter-widgets/controls",
            "_view_module_version": "1.5.0",
            "_view_name": "HTMLView",
            "description": "",
            "description_tooltip": null,
            "layout": "IPY_MODEL_d7c6c4e92862478987b151014def8a2f",
            "placeholder": "​",
            "style": "IPY_MODEL_9e45103ced4442f1a09deb693b74947c",
            "value": " 6860/6860 [00:02&lt;00:00, 2686.40 examples/s]"
          }
        },
        "aab3159adc5c477daddad3d3f0716f84": {
          "model_module": "@jupyter-widgets/base",
          "model_name": "LayoutModel",
          "model_module_version": "1.2.0",
          "state": {
            "_model_module": "@jupyter-widgets/base",
            "_model_module_version": "1.2.0",
            "_model_name": "LayoutModel",
            "_view_count": null,
            "_view_module": "@jupyter-widgets/base",
            "_view_module_version": "1.2.0",
            "_view_name": "LayoutView",
            "align_content": null,
            "align_items": null,
            "align_self": null,
            "border": null,
            "bottom": null,
            "display": null,
            "flex": null,
            "flex_flow": null,
            "grid_area": null,
            "grid_auto_columns": null,
            "grid_auto_flow": null,
            "grid_auto_rows": null,
            "grid_column": null,
            "grid_gap": null,
            "grid_row": null,
            "grid_template_areas": null,
            "grid_template_columns": null,
            "grid_template_rows": null,
            "height": null,
            "justify_content": null,
            "justify_items": null,
            "left": null,
            "margin": null,
            "max_height": null,
            "max_width": null,
            "min_height": null,
            "min_width": null,
            "object_fit": null,
            "object_position": null,
            "order": null,
            "overflow": null,
            "overflow_x": null,
            "overflow_y": null,
            "padding": null,
            "right": null,
            "top": null,
            "visibility": null,
            "width": null
          }
        },
        "af2e261303ed4a6fa63323f767e44fb8": {
          "model_module": "@jupyter-widgets/base",
          "model_name": "LayoutModel",
          "model_module_version": "1.2.0",
          "state": {
            "_model_module": "@jupyter-widgets/base",
            "_model_module_version": "1.2.0",
            "_model_name": "LayoutModel",
            "_view_count": null,
            "_view_module": "@jupyter-widgets/base",
            "_view_module_version": "1.2.0",
            "_view_name": "LayoutView",
            "align_content": null,
            "align_items": null,
            "align_self": null,
            "border": null,
            "bottom": null,
            "display": null,
            "flex": null,
            "flex_flow": null,
            "grid_area": null,
            "grid_auto_columns": null,
            "grid_auto_flow": null,
            "grid_auto_rows": null,
            "grid_column": null,
            "grid_gap": null,
            "grid_row": null,
            "grid_template_areas": null,
            "grid_template_columns": null,
            "grid_template_rows": null,
            "height": null,
            "justify_content": null,
            "justify_items": null,
            "left": null,
            "margin": null,
            "max_height": null,
            "max_width": null,
            "min_height": null,
            "min_width": null,
            "object_fit": null,
            "object_position": null,
            "order": null,
            "overflow": null,
            "overflow_x": null,
            "overflow_y": null,
            "padding": null,
            "right": null,
            "top": null,
            "visibility": null,
            "width": null
          }
        },
        "80ed83921851426293bb198c68f443a2": {
          "model_module": "@jupyter-widgets/controls",
          "model_name": "DescriptionStyleModel",
          "model_module_version": "1.5.0",
          "state": {
            "_model_module": "@jupyter-widgets/controls",
            "_model_module_version": "1.5.0",
            "_model_name": "DescriptionStyleModel",
            "_view_count": null,
            "_view_module": "@jupyter-widgets/base",
            "_view_module_version": "1.2.0",
            "_view_name": "StyleView",
            "description_width": ""
          }
        },
        "ee65d3a2c55944828255bc0b2d7d4e89": {
          "model_module": "@jupyter-widgets/base",
          "model_name": "LayoutModel",
          "model_module_version": "1.2.0",
          "state": {
            "_model_module": "@jupyter-widgets/base",
            "_model_module_version": "1.2.0",
            "_model_name": "LayoutModel",
            "_view_count": null,
            "_view_module": "@jupyter-widgets/base",
            "_view_module_version": "1.2.0",
            "_view_name": "LayoutView",
            "align_content": null,
            "align_items": null,
            "align_self": null,
            "border": null,
            "bottom": null,
            "display": null,
            "flex": null,
            "flex_flow": null,
            "grid_area": null,
            "grid_auto_columns": null,
            "grid_auto_flow": null,
            "grid_auto_rows": null,
            "grid_column": null,
            "grid_gap": null,
            "grid_row": null,
            "grid_template_areas": null,
            "grid_template_columns": null,
            "grid_template_rows": null,
            "height": null,
            "justify_content": null,
            "justify_items": null,
            "left": null,
            "margin": null,
            "max_height": null,
            "max_width": null,
            "min_height": null,
            "min_width": null,
            "object_fit": null,
            "object_position": null,
            "order": null,
            "overflow": null,
            "overflow_x": null,
            "overflow_y": null,
            "padding": null,
            "right": null,
            "top": null,
            "visibility": null,
            "width": null
          }
        },
        "fcc7a192d5b8493b9948e5123b07e510": {
          "model_module": "@jupyter-widgets/controls",
          "model_name": "ProgressStyleModel",
          "model_module_version": "1.5.0",
          "state": {
            "_model_module": "@jupyter-widgets/controls",
            "_model_module_version": "1.5.0",
            "_model_name": "ProgressStyleModel",
            "_view_count": null,
            "_view_module": "@jupyter-widgets/base",
            "_view_module_version": "1.2.0",
            "_view_name": "StyleView",
            "bar_color": null,
            "description_width": ""
          }
        },
        "d7c6c4e92862478987b151014def8a2f": {
          "model_module": "@jupyter-widgets/base",
          "model_name": "LayoutModel",
          "model_module_version": "1.2.0",
          "state": {
            "_model_module": "@jupyter-widgets/base",
            "_model_module_version": "1.2.0",
            "_model_name": "LayoutModel",
            "_view_count": null,
            "_view_module": "@jupyter-widgets/base",
            "_view_module_version": "1.2.0",
            "_view_name": "LayoutView",
            "align_content": null,
            "align_items": null,
            "align_self": null,
            "border": null,
            "bottom": null,
            "display": null,
            "flex": null,
            "flex_flow": null,
            "grid_area": null,
            "grid_auto_columns": null,
            "grid_auto_flow": null,
            "grid_auto_rows": null,
            "grid_column": null,
            "grid_gap": null,
            "grid_row": null,
            "grid_template_areas": null,
            "grid_template_columns": null,
            "grid_template_rows": null,
            "height": null,
            "justify_content": null,
            "justify_items": null,
            "left": null,
            "margin": null,
            "max_height": null,
            "max_width": null,
            "min_height": null,
            "min_width": null,
            "object_fit": null,
            "object_position": null,
            "order": null,
            "overflow": null,
            "overflow_x": null,
            "overflow_y": null,
            "padding": null,
            "right": null,
            "top": null,
            "visibility": null,
            "width": null
          }
        },
        "9e45103ced4442f1a09deb693b74947c": {
          "model_module": "@jupyter-widgets/controls",
          "model_name": "DescriptionStyleModel",
          "model_module_version": "1.5.0",
          "state": {
            "_model_module": "@jupyter-widgets/controls",
            "_model_module_version": "1.5.0",
            "_model_name": "DescriptionStyleModel",
            "_view_count": null,
            "_view_module": "@jupyter-widgets/base",
            "_view_module_version": "1.2.0",
            "_view_name": "StyleView",
            "description_width": ""
          }
        },
        "5795aa65ef97445685af928f446b647c": {
          "model_module": "@jupyter-widgets/controls",
          "model_name": "HBoxModel",
          "model_module_version": "1.5.0",
          "state": {
            "_dom_classes": [],
            "_model_module": "@jupyter-widgets/controls",
            "_model_module_version": "1.5.0",
            "_model_name": "HBoxModel",
            "_view_count": null,
            "_view_module": "@jupyter-widgets/controls",
            "_view_module_version": "1.5.0",
            "_view_name": "HBoxView",
            "box_style": "",
            "children": [
              "IPY_MODEL_f09a6bac94af48ce8e711d3681d2ef33",
              "IPY_MODEL_60fa2bd8f769480193a80f23a818e8a7",
              "IPY_MODEL_c5251f7c3e2040a59e73b49c25428c8d"
            ],
            "layout": "IPY_MODEL_ac2d15706daf40fe8268c01195fe646c"
          }
        },
        "f09a6bac94af48ce8e711d3681d2ef33": {
          "model_module": "@jupyter-widgets/controls",
          "model_name": "HTMLModel",
          "model_module_version": "1.5.0",
          "state": {
            "_dom_classes": [],
            "_model_module": "@jupyter-widgets/controls",
            "_model_module_version": "1.5.0",
            "_model_name": "HTMLModel",
            "_view_count": null,
            "_view_module": "@jupyter-widgets/controls",
            "_view_module_version": "1.5.0",
            "_view_name": "HTMLView",
            "description": "",
            "description_tooltip": null,
            "layout": "IPY_MODEL_9baee9acb4224562ba9dc36859f43bd7",
            "placeholder": "​",
            "style": "IPY_MODEL_675f517e594947459167ba73b7641c43",
            "value": "Map: 100%"
          }
        },
        "60fa2bd8f769480193a80f23a818e8a7": {
          "model_module": "@jupyter-widgets/controls",
          "model_name": "FloatProgressModel",
          "model_module_version": "1.5.0",
          "state": {
            "_dom_classes": [],
            "_model_module": "@jupyter-widgets/controls",
            "_model_module_version": "1.5.0",
            "_model_name": "FloatProgressModel",
            "_view_count": null,
            "_view_module": "@jupyter-widgets/controls",
            "_view_module_version": "1.5.0",
            "_view_name": "ProgressView",
            "bar_style": "success",
            "description": "",
            "description_tooltip": null,
            "layout": "IPY_MODEL_4a1bf5323ebe4d65b24f59ae021d6658",
            "max": 7,
            "min": 0,
            "orientation": "horizontal",
            "style": "IPY_MODEL_9525c3bd860943418da46d7da41a3ada",
            "value": 7
          }
        },
        "c5251f7c3e2040a59e73b49c25428c8d": {
          "model_module": "@jupyter-widgets/controls",
          "model_name": "HTMLModel",
          "model_module_version": "1.5.0",
          "state": {
            "_dom_classes": [],
            "_model_module": "@jupyter-widgets/controls",
            "_model_module_version": "1.5.0",
            "_model_name": "HTMLModel",
            "_view_count": null,
            "_view_module": "@jupyter-widgets/controls",
            "_view_module_version": "1.5.0",
            "_view_name": "HTMLView",
            "description": "",
            "description_tooltip": null,
            "layout": "IPY_MODEL_4de3edbc301840068d38ee9b126cdc30",
            "placeholder": "​",
            "style": "IPY_MODEL_3b1eef373fa7455a824791bddd5d8c86",
            "value": " 7/7 [00:00&lt;00:00, 153.95 examples/s]"
          }
        },
        "ac2d15706daf40fe8268c01195fe646c": {
          "model_module": "@jupyter-widgets/base",
          "model_name": "LayoutModel",
          "model_module_version": "1.2.0",
          "state": {
            "_model_module": "@jupyter-widgets/base",
            "_model_module_version": "1.2.0",
            "_model_name": "LayoutModel",
            "_view_count": null,
            "_view_module": "@jupyter-widgets/base",
            "_view_module_version": "1.2.0",
            "_view_name": "LayoutView",
            "align_content": null,
            "align_items": null,
            "align_self": null,
            "border": null,
            "bottom": null,
            "display": null,
            "flex": null,
            "flex_flow": null,
            "grid_area": null,
            "grid_auto_columns": null,
            "grid_auto_flow": null,
            "grid_auto_rows": null,
            "grid_column": null,
            "grid_gap": null,
            "grid_row": null,
            "grid_template_areas": null,
            "grid_template_columns": null,
            "grid_template_rows": null,
            "height": null,
            "justify_content": null,
            "justify_items": null,
            "left": null,
            "margin": null,
            "max_height": null,
            "max_width": null,
            "min_height": null,
            "min_width": null,
            "object_fit": null,
            "object_position": null,
            "order": null,
            "overflow": null,
            "overflow_x": null,
            "overflow_y": null,
            "padding": null,
            "right": null,
            "top": null,
            "visibility": null,
            "width": null
          }
        },
        "9baee9acb4224562ba9dc36859f43bd7": {
          "model_module": "@jupyter-widgets/base",
          "model_name": "LayoutModel",
          "model_module_version": "1.2.0",
          "state": {
            "_model_module": "@jupyter-widgets/base",
            "_model_module_version": "1.2.0",
            "_model_name": "LayoutModel",
            "_view_count": null,
            "_view_module": "@jupyter-widgets/base",
            "_view_module_version": "1.2.0",
            "_view_name": "LayoutView",
            "align_content": null,
            "align_items": null,
            "align_self": null,
            "border": null,
            "bottom": null,
            "display": null,
            "flex": null,
            "flex_flow": null,
            "grid_area": null,
            "grid_auto_columns": null,
            "grid_auto_flow": null,
            "grid_auto_rows": null,
            "grid_column": null,
            "grid_gap": null,
            "grid_row": null,
            "grid_template_areas": null,
            "grid_template_columns": null,
            "grid_template_rows": null,
            "height": null,
            "justify_content": null,
            "justify_items": null,
            "left": null,
            "margin": null,
            "max_height": null,
            "max_width": null,
            "min_height": null,
            "min_width": null,
            "object_fit": null,
            "object_position": null,
            "order": null,
            "overflow": null,
            "overflow_x": null,
            "overflow_y": null,
            "padding": null,
            "right": null,
            "top": null,
            "visibility": null,
            "width": null
          }
        },
        "675f517e594947459167ba73b7641c43": {
          "model_module": "@jupyter-widgets/controls",
          "model_name": "DescriptionStyleModel",
          "model_module_version": "1.5.0",
          "state": {
            "_model_module": "@jupyter-widgets/controls",
            "_model_module_version": "1.5.0",
            "_model_name": "DescriptionStyleModel",
            "_view_count": null,
            "_view_module": "@jupyter-widgets/base",
            "_view_module_version": "1.2.0",
            "_view_name": "StyleView",
            "description_width": ""
          }
        },
        "4a1bf5323ebe4d65b24f59ae021d6658": {
          "model_module": "@jupyter-widgets/base",
          "model_name": "LayoutModel",
          "model_module_version": "1.2.0",
          "state": {
            "_model_module": "@jupyter-widgets/base",
            "_model_module_version": "1.2.0",
            "_model_name": "LayoutModel",
            "_view_count": null,
            "_view_module": "@jupyter-widgets/base",
            "_view_module_version": "1.2.0",
            "_view_name": "LayoutView",
            "align_content": null,
            "align_items": null,
            "align_self": null,
            "border": null,
            "bottom": null,
            "display": null,
            "flex": null,
            "flex_flow": null,
            "grid_area": null,
            "grid_auto_columns": null,
            "grid_auto_flow": null,
            "grid_auto_rows": null,
            "grid_column": null,
            "grid_gap": null,
            "grid_row": null,
            "grid_template_areas": null,
            "grid_template_columns": null,
            "grid_template_rows": null,
            "height": null,
            "justify_content": null,
            "justify_items": null,
            "left": null,
            "margin": null,
            "max_height": null,
            "max_width": null,
            "min_height": null,
            "min_width": null,
            "object_fit": null,
            "object_position": null,
            "order": null,
            "overflow": null,
            "overflow_x": null,
            "overflow_y": null,
            "padding": null,
            "right": null,
            "top": null,
            "visibility": null,
            "width": null
          }
        },
        "9525c3bd860943418da46d7da41a3ada": {
          "model_module": "@jupyter-widgets/controls",
          "model_name": "ProgressStyleModel",
          "model_module_version": "1.5.0",
          "state": {
            "_model_module": "@jupyter-widgets/controls",
            "_model_module_version": "1.5.0",
            "_model_name": "ProgressStyleModel",
            "_view_count": null,
            "_view_module": "@jupyter-widgets/base",
            "_view_module_version": "1.2.0",
            "_view_name": "StyleView",
            "bar_color": null,
            "description_width": ""
          }
        },
        "4de3edbc301840068d38ee9b126cdc30": {
          "model_module": "@jupyter-widgets/base",
          "model_name": "LayoutModel",
          "model_module_version": "1.2.0",
          "state": {
            "_model_module": "@jupyter-widgets/base",
            "_model_module_version": "1.2.0",
            "_model_name": "LayoutModel",
            "_view_count": null,
            "_view_module": "@jupyter-widgets/base",
            "_view_module_version": "1.2.0",
            "_view_name": "LayoutView",
            "align_content": null,
            "align_items": null,
            "align_self": null,
            "border": null,
            "bottom": null,
            "display": null,
            "flex": null,
            "flex_flow": null,
            "grid_area": null,
            "grid_auto_columns": null,
            "grid_auto_flow": null,
            "grid_auto_rows": null,
            "grid_column": null,
            "grid_gap": null,
            "grid_row": null,
            "grid_template_areas": null,
            "grid_template_columns": null,
            "grid_template_rows": null,
            "height": null,
            "justify_content": null,
            "justify_items": null,
            "left": null,
            "margin": null,
            "max_height": null,
            "max_width": null,
            "min_height": null,
            "min_width": null,
            "object_fit": null,
            "object_position": null,
            "order": null,
            "overflow": null,
            "overflow_x": null,
            "overflow_y": null,
            "padding": null,
            "right": null,
            "top": null,
            "visibility": null,
            "width": null
          }
        },
        "3b1eef373fa7455a824791bddd5d8c86": {
          "model_module": "@jupyter-widgets/controls",
          "model_name": "DescriptionStyleModel",
          "model_module_version": "1.5.0",
          "state": {
            "_model_module": "@jupyter-widgets/controls",
            "_model_module_version": "1.5.0",
            "_model_name": "DescriptionStyleModel",
            "_view_count": null,
            "_view_module": "@jupyter-widgets/base",
            "_view_module_version": "1.2.0",
            "_view_name": "StyleView",
            "description_width": ""
          }
        }
      }
    }
  },
  "cells": [
    {
      "cell_type": "code",
      "execution_count": null,
      "metadata": {
        "id": "Uszu8tJQWugq"
      },
      "outputs": [],
      "source": [
        "import math\n",
        "\n",
        "import torch\n",
        "import torch.nn as nn\n",
        "import torch.nn.functional as F\n",
        "from torch.utils.data import dataset\n",
        "\n",
        "import numpy as np\n",
        "import matplotlib.pyplot as plt"
      ]
    },
    {
      "cell_type": "code",
      "source": [
        "class CausalSelfAttention(nn.Module):\n",
        "  def __init__(self, d_k, d_model, n_heads, max_len):\n",
        "    super().__init__()\n",
        "\n",
        "    # Assume d_v = d_k\n",
        "    self.d_k = d_k\n",
        "    self.n_heads = n_heads\n",
        "\n",
        "    self.key = nn.Linear(d_model, d_k * n_heads)\n",
        "    self.query = nn.Linear(d_model, d_k*n_heads)\n",
        "    self.value = nn.Linear(d_model, d_k*n_heads)\n",
        "\n",
        "\n",
        "    #final linear layer\n",
        "    self.fc = nn.Linear(d_k * n_heads, d_model)\n",
        "\n",
        "    # casual mask\n",
        "    # make it so that diagonal is 0 too\n",
        "    # this way we don't have to shift the inputs to make targets\n",
        "    cm = torch.tril(torch.ones(max_len, max_len))\n",
        "    self.register_buffer(\n",
        "        \"causal_mask\",\n",
        "        cm.view(1,1, max_len, max_len) #(T,T) --> (1,1,T,T)\n",
        "    )\n",
        "  def forward(self, q, k, v, pad_mask=None):\n",
        "    q = self.query(q)\n",
        "    k = self.key(k)\n",
        "    v = self.value(v)\n",
        "\n",
        "    N = q.shape[0]\n",
        "    T = q.shape[1]\n",
        "\n",
        "    # change the shape to:\n",
        "    # (N, T, h, d_k) -> (N, h, T, d_k)\n",
        "    # in order for matrix multiply to work properly\n",
        "    q = q.view(N, T, self.n_heads, self.d_k).transpose(1,2)\n",
        "    k = k.view(N, T, self.n_heads, self.d_k).transpose(1,2)\n",
        "    v = v.view(N, T, self.n_heads, self.d_k).transpose(1,2)\n",
        "\n",
        "    #compute attention weights\n",
        "    #compute attention weights\n",
        "    #(N, h, T, d_k) x (N, h, d_k, T) --> (N, h, T, T)\n",
        "    # scaling score  = query * key Transpose/ square root of(dimension)\n",
        "    attn_scores = q @ k.transpose(-2,-1)/ math.sqrt(self.d_k)\n",
        "\n",
        "    #we mask\n",
        "    if pad_mask is not None:\n",
        "      attn_scores = attn_scores.masked_fill(\n",
        "          #mask:(N,T)-> mask[:, None, None, :] -> mask:(N,1,1,T)\n",
        "          #this allows us to broadcast correctly\n",
        "          pad_mask[:, None, None, :] == 0, float('-inf')\n",
        "      )\n",
        "    attn_scores = attn_scores.masked_fill(\n",
        "        self.causal_mask[:,:,:T,:T] == 0 , float(\"-inf\")\n",
        "    )\n",
        "\n",
        "    #attention weights\n",
        "    attn_weights = F.softmax(attn_scores, dim=-1)\n",
        "\n",
        "    #compute attention weights-weighted values\n",
        "    # (N, h, T, T) X (N, h, T, d_k) --> (N, h, T, d_k)\n",
        "    A = attn_weights @ v\n",
        "\n",
        "    #reshape it back before final linear layer\n",
        "    A = A.transpose(1,2) # (N, h, T, d_k) --> (N, T, h, d_k)\n",
        "    #contiguous allows us to set our values correctly in memory\n",
        "    A = A.contiguous().view(N, T, self.d_k * self.n_heads) #(N, T, h*d_k)\n",
        "\n",
        "    #projection\n",
        "    return self.fc(A)\n"
      ],
      "metadata": {
        "id": "-WDqY-sBW80H"
      },
      "execution_count": null,
      "outputs": []
    },
    {
      "cell_type": "code",
      "source": [
        "t= torch.tril(torch.ones(7, 5))"
      ],
      "metadata": {
        "id": "-nzlxTfeYzQj"
      },
      "execution_count": null,
      "outputs": []
    },
    {
      "cell_type": "code",
      "source": [
        "class TransformerBlock(nn.Module):\n",
        "  def __init__(self, d_k, d_model, n_heads, max_len, dropout_prob=0.1):\n",
        "    super().__init__()\n",
        "\n",
        "    self.ln1 = nn.LayerNorm(d_model)\n",
        "    self.ln2 = nn.LayerNorm(d_model)\n",
        "    self.mha = CausalSelfAttention(d_k, d_model, n_heads, max_len)\n",
        "    self.ann = nn.Sequential(\n",
        "        nn.Linear(d_model, d_model *4),\n",
        "        nn.GELU(),\n",
        "        nn.Linear(d_model * 4, d_model),\n",
        "        nn.Dropout(dropout_prob),\n",
        "    )\n",
        "    self.dropout = nn.Dropout(p=dropout_prob)\n",
        "\n",
        "  def forward(self, x, pad_mask=None):\n",
        "    x = self.ln1(x + self.mha(x,x,x,pad_mask))\n",
        "    x = self.ln2(x + self.ann(x))\n",
        "    x = self.dropout(x)\n",
        "    return x"
      ],
      "metadata": {
        "id": "-6aF9HU9Y__k"
      },
      "execution_count": null,
      "outputs": []
    },
    {
      "cell_type": "code",
      "source": [
        "class PositionalEncoding(nn.Module):\n",
        "  def __init__(self, d_model, max_len=2048, dropout_prob=0.1):\n",
        "    super().__init__()\n",
        "    self.dropout = nn.Dropout(p=dropout_prob)\n",
        "    #equations\n",
        "    #PE(pos,2i) = sin(pos/10000^2i/dmodel)\n",
        "    #PE(pos, 2i + 1) = cos(pos/10000^2i/dmodel)\n",
        "\n",
        "    #arange goes from 0 to max lenght\n",
        "    position = torch.arange(max_len).unsqueeze(1) #Pos\n",
        "    exp_term = torch.arange(0, d_model, 2) #2i\n",
        "    div_term = torch.exp(exp_term * (-math.log(10000.0) / d_model)) #10000^-2i/dmodel\n",
        "    pe = torch.zeros(1, max_len, d_model) #(1, T, D) to brodcast to (N, T, D)\n",
        "    pe[0, :, 0::2] = torch.sin(position * div_term) #PE(pos,2i) = sin(pos/10000^2i/dmodel)\n",
        "    pe[0, :, 1::2] = torch.cos(position * div_term) #PE(pos, 2i + 1) = cos(pos/10000^2i/dmodel)\n",
        "    self.register_buffer(\"pe\", pe) # save and load correctly register and does not required gradient\n",
        "\n",
        "  def forward(self, x):\n",
        "    # x.shape: N x T x D\n",
        "    x = x + self.pe[:, :x.size(1), :] #accessing register buffer\n",
        "    return self.dropout(x)"
      ],
      "metadata": {
        "id": "S6bjVTiiZJAi"
      },
      "execution_count": null,
      "outputs": []
    },
    {
      "cell_type": "code",
      "source": [
        "\n",
        "class Decoder(nn.Module):\n",
        "  def __init__(self,\n",
        "               vocab_size,\n",
        "               max_len,\n",
        "               d_k,\n",
        "               d_model,\n",
        "               n_heads,\n",
        "               n_layers,\n",
        "               dropout_prob):\n",
        "    super().__init__()\n",
        "\n",
        "    self.embedding = nn.Embedding(vocab_size, d_model)\n",
        "    self.pos_encoding = PositionalEncoding(d_model, max_len, dropout_prob)\n",
        "    transformer_blocks = [\n",
        "        TransformerBlock(\n",
        "            d_k,\n",
        "            d_model,\n",
        "            n_heads,\n",
        "            max_len,\n",
        "            dropout_prob\n",
        "        ) for _ in range(n_layers)]\n",
        "\n",
        "    self.transformer_blocks = nn.Sequential(*transformer_blocks) #encapsulate in sequential\n",
        "    self.ln = nn.LayerNorm(d_model)\n",
        "    self.fc = nn.Linear(d_model, vocab_size) #outputs vocab size\n",
        "\n",
        "\n",
        "  def forward(self, x, pad_mask=None):\n",
        "    x = self.embedding(x)\n",
        "    x = self.pos_encoding(x)\n",
        "    for block in self.transformer_blocks:\n",
        "      x = block(x, pad_mask)\n",
        "\n",
        "    x = self.ln(x)\n",
        "    x = self.fc(x) #many-to-many\n",
        "\n",
        "    return x"
      ],
      "metadata": {
        "id": "XPhBBz16cII-"
      },
      "execution_count": null,
      "outputs": []
    },
    {
      "cell_type": "code",
      "source": [
        "model = Decoder(20_0000, 1024, 16, 64, 4, 2, 0.1)"
      ],
      "metadata": {
        "id": "Rll5Q3ifdJO0"
      },
      "execution_count": null,
      "outputs": []
    },
    {
      "cell_type": "code",
      "source": [
        "device = torch.device('cuda:0' if torch.cuda.is_available() else 'cpu')\n",
        "print(device)\n",
        "model.to(device)"
      ],
      "metadata": {
        "colab": {
          "base_uri": "https://localhost:8080/"
        },
        "id": "qI3yAZ4XdSMm",
        "outputId": "987f6026-7443-4690-d28e-320426ac754f"
      },
      "execution_count": null,
      "outputs": [
        {
          "output_type": "stream",
          "name": "stdout",
          "text": [
            "cuda:0\n"
          ]
        },
        {
          "output_type": "execute_result",
          "data": {
            "text/plain": [
              "Decoder(\n",
              "  (embedding): Embedding(200000, 64)\n",
              "  (pos_encoding): PositionalEncoding(\n",
              "    (dropout): Dropout(p=0.1, inplace=False)\n",
              "  )\n",
              "  (transformer_blocks): Sequential(\n",
              "    (0): TransformerBlock(\n",
              "      (ln1): LayerNorm((64,), eps=1e-05, elementwise_affine=True)\n",
              "      (ln2): LayerNorm((64,), eps=1e-05, elementwise_affine=True)\n",
              "      (mha): CausalSelfAttention(\n",
              "        (key): Linear(in_features=64, out_features=64, bias=True)\n",
              "        (query): Linear(in_features=64, out_features=64, bias=True)\n",
              "        (value): Linear(in_features=64, out_features=64, bias=True)\n",
              "        (fc): Linear(in_features=64, out_features=64, bias=True)\n",
              "      )\n",
              "      (ann): Sequential(\n",
              "        (0): Linear(in_features=64, out_features=256, bias=True)\n",
              "        (1): GELU(approximate='none')\n",
              "        (2): Linear(in_features=256, out_features=64, bias=True)\n",
              "        (3): Dropout(p=0.1, inplace=False)\n",
              "      )\n",
              "      (dropout): Dropout(p=0.1, inplace=False)\n",
              "    )\n",
              "    (1): TransformerBlock(\n",
              "      (ln1): LayerNorm((64,), eps=1e-05, elementwise_affine=True)\n",
              "      (ln2): LayerNorm((64,), eps=1e-05, elementwise_affine=True)\n",
              "      (mha): CausalSelfAttention(\n",
              "        (key): Linear(in_features=64, out_features=64, bias=True)\n",
              "        (query): Linear(in_features=64, out_features=64, bias=True)\n",
              "        (value): Linear(in_features=64, out_features=64, bias=True)\n",
              "        (fc): Linear(in_features=64, out_features=64, bias=True)\n",
              "      )\n",
              "      (ann): Sequential(\n",
              "        (0): Linear(in_features=64, out_features=256, bias=True)\n",
              "        (1): GELU(approximate='none')\n",
              "        (2): Linear(in_features=256, out_features=64, bias=True)\n",
              "        (3): Dropout(p=0.1, inplace=False)\n",
              "      )\n",
              "      (dropout): Dropout(p=0.1, inplace=False)\n",
              "    )\n",
              "  )\n",
              "  (ln): LayerNorm((64,), eps=1e-05, elementwise_affine=True)\n",
              "  (fc): Linear(in_features=64, out_features=200000, bias=True)\n",
              ")"
            ]
          },
          "metadata": {},
          "execution_count": 8
        }
      ]
    },
    {
      "cell_type": "code",
      "source": [
        "x = np.random.randint(0, 20_000, size =(8,512))\n",
        "x_t = torch.tensor(x).to(device)"
      ],
      "metadata": {
        "id": "doYUnc8sdbHo"
      },
      "execution_count": null,
      "outputs": []
    },
    {
      "cell_type": "code",
      "source": [
        "y = model(x_t)\n",
        "y.shape"
      ],
      "metadata": {
        "colab": {
          "base_uri": "https://localhost:8080/"
        },
        "id": "TpqcPCKldk7h",
        "outputId": "ceb61e50-588b-4530-f74f-664f5e4741d0"
      },
      "execution_count": null,
      "outputs": [
        {
          "output_type": "execute_result",
          "data": {
            "text/plain": [
              "torch.Size([8, 512, 200000])"
            ]
          },
          "metadata": {},
          "execution_count": 10
        }
      ]
    },
    {
      "cell_type": "code",
      "source": [
        "mask = np.ones((8, 512))\n",
        "mask[: 256:] = 0\n",
        "mask_t = torch.tensor(mask).to(device)"
      ],
      "metadata": {
        "id": "jQjf-pWSdm81"
      },
      "execution_count": null,
      "outputs": []
    },
    {
      "cell_type": "code",
      "source": [
        "y = model(x_t, mask_t)\n",
        "y.shape"
      ],
      "metadata": {
        "colab": {
          "base_uri": "https://localhost:8080/"
        },
        "id": "mXGS9i2Ld184",
        "outputId": "034ebb2c-2b66-4b91-afe0-dfdf2e2d3a66"
      },
      "execution_count": null,
      "outputs": [
        {
          "output_type": "execute_result",
          "data": {
            "text/plain": [
              "torch.Size([8, 512, 200000])"
            ]
          },
          "metadata": {},
          "execution_count": 12
        }
      ]
    },
    {
      "cell_type": "code",
      "source": [
        "!pip install transformers datasets"
      ],
      "metadata": {
        "colab": {
          "base_uri": "https://localhost:8080/"
        },
        "id": "f0Tieri2d4gX",
        "outputId": "1ff71b7c-15ed-4f47-d360-5e4d52a9f04a"
      },
      "execution_count": null,
      "outputs": [
        {
          "output_type": "stream",
          "name": "stdout",
          "text": [
            "Requirement already satisfied: transformers in /usr/local/lib/python3.10/dist-packages (4.35.2)\n",
            "Collecting datasets\n",
            "  Downloading datasets-2.15.0-py3-none-any.whl (521 kB)\n",
            "\u001b[2K     \u001b[90m━━━━━━━━━━━━━━━━━━━━━━━━━━━━━━━━━━━━━━━━\u001b[0m \u001b[32m521.2/521.2 kB\u001b[0m \u001b[31m5.5 MB/s\u001b[0m eta \u001b[36m0:00:00\u001b[0m\n",
            "\u001b[?25hRequirement already satisfied: filelock in /usr/local/lib/python3.10/dist-packages (from transformers) (3.13.1)\n",
            "Requirement already satisfied: huggingface-hub<1.0,>=0.16.4 in /usr/local/lib/python3.10/dist-packages (from transformers) (0.19.4)\n",
            "Requirement already satisfied: numpy>=1.17 in /usr/local/lib/python3.10/dist-packages (from transformers) (1.23.5)\n",
            "Requirement already satisfied: packaging>=20.0 in /usr/local/lib/python3.10/dist-packages (from transformers) (23.2)\n",
            "Requirement already satisfied: pyyaml>=5.1 in /usr/local/lib/python3.10/dist-packages (from transformers) (6.0.1)\n",
            "Requirement already satisfied: regex!=2019.12.17 in /usr/local/lib/python3.10/dist-packages (from transformers) (2023.6.3)\n",
            "Requirement already satisfied: requests in /usr/local/lib/python3.10/dist-packages (from transformers) (2.31.0)\n",
            "Requirement already satisfied: tokenizers<0.19,>=0.14 in /usr/local/lib/python3.10/dist-packages (from transformers) (0.15.0)\n",
            "Requirement already satisfied: safetensors>=0.3.1 in /usr/local/lib/python3.10/dist-packages (from transformers) (0.4.0)\n",
            "Requirement already satisfied: tqdm>=4.27 in /usr/local/lib/python3.10/dist-packages (from transformers) (4.66.1)\n",
            "Requirement already satisfied: pyarrow>=8.0.0 in /usr/local/lib/python3.10/dist-packages (from datasets) (9.0.0)\n",
            "Collecting pyarrow-hotfix (from datasets)\n",
            "  Downloading pyarrow_hotfix-0.6-py3-none-any.whl (7.9 kB)\n",
            "Collecting dill<0.3.8,>=0.3.0 (from datasets)\n",
            "  Downloading dill-0.3.7-py3-none-any.whl (115 kB)\n",
            "\u001b[2K     \u001b[90m━━━━━━━━━━━━━━━━━━━━━━━━━━━━━━━━━━━━━━━━\u001b[0m \u001b[32m115.3/115.3 kB\u001b[0m \u001b[31m7.7 MB/s\u001b[0m eta \u001b[36m0:00:00\u001b[0m\n",
            "\u001b[?25hRequirement already satisfied: pandas in /usr/local/lib/python3.10/dist-packages (from datasets) (1.5.3)\n",
            "Requirement already satisfied: xxhash in /usr/local/lib/python3.10/dist-packages (from datasets) (3.4.1)\n",
            "Collecting multiprocess (from datasets)\n",
            "  Downloading multiprocess-0.70.15-py310-none-any.whl (134 kB)\n",
            "\u001b[2K     \u001b[90m━━━━━━━━━━━━━━━━━━━━━━━━━━━━━━━━━━━━━━━━\u001b[0m \u001b[32m134.8/134.8 kB\u001b[0m \u001b[31m8.3 MB/s\u001b[0m eta \u001b[36m0:00:00\u001b[0m\n",
            "\u001b[?25hRequirement already satisfied: fsspec[http]<=2023.10.0,>=2023.1.0 in /usr/local/lib/python3.10/dist-packages (from datasets) (2023.6.0)\n",
            "Requirement already satisfied: aiohttp in /usr/local/lib/python3.10/dist-packages (from datasets) (3.8.6)\n",
            "Requirement already satisfied: attrs>=17.3.0 in /usr/local/lib/python3.10/dist-packages (from aiohttp->datasets) (23.1.0)\n",
            "Requirement already satisfied: charset-normalizer<4.0,>=2.0 in /usr/local/lib/python3.10/dist-packages (from aiohttp->datasets) (3.3.2)\n",
            "Requirement already satisfied: multidict<7.0,>=4.5 in /usr/local/lib/python3.10/dist-packages (from aiohttp->datasets) (6.0.4)\n",
            "Requirement already satisfied: async-timeout<5.0,>=4.0.0a3 in /usr/local/lib/python3.10/dist-packages (from aiohttp->datasets) (4.0.3)\n",
            "Requirement already satisfied: yarl<2.0,>=1.0 in /usr/local/lib/python3.10/dist-packages (from aiohttp->datasets) (1.9.2)\n",
            "Requirement already satisfied: frozenlist>=1.1.1 in /usr/local/lib/python3.10/dist-packages (from aiohttp->datasets) (1.4.0)\n",
            "Requirement already satisfied: aiosignal>=1.1.2 in /usr/local/lib/python3.10/dist-packages (from aiohttp->datasets) (1.3.1)\n",
            "Requirement already satisfied: typing-extensions>=3.7.4.3 in /usr/local/lib/python3.10/dist-packages (from huggingface-hub<1.0,>=0.16.4->transformers) (4.5.0)\n",
            "Requirement already satisfied: idna<4,>=2.5 in /usr/local/lib/python3.10/dist-packages (from requests->transformers) (3.4)\n",
            "Requirement already satisfied: urllib3<3,>=1.21.1 in /usr/local/lib/python3.10/dist-packages (from requests->transformers) (2.0.7)\n",
            "Requirement already satisfied: certifi>=2017.4.17 in /usr/local/lib/python3.10/dist-packages (from requests->transformers) (2023.7.22)\n",
            "Requirement already satisfied: python-dateutil>=2.8.1 in /usr/local/lib/python3.10/dist-packages (from pandas->datasets) (2.8.2)\n",
            "Requirement already satisfied: pytz>=2020.1 in /usr/local/lib/python3.10/dist-packages (from pandas->datasets) (2023.3.post1)\n",
            "Requirement already satisfied: six>=1.5 in /usr/local/lib/python3.10/dist-packages (from python-dateutil>=2.8.1->pandas->datasets) (1.16.0)\n",
            "Installing collected packages: pyarrow-hotfix, dill, multiprocess, datasets\n",
            "Successfully installed datasets-2.15.0 dill-0.3.7 multiprocess-0.70.15 pyarrow-hotfix-0.6\n"
          ]
        }
      ]
    },
    {
      "cell_type": "code",
      "source": [
        "from transformers import AutoTokenizer, DataCollatorWithPadding"
      ],
      "metadata": {
        "id": "yCn11Kr1d6Is"
      },
      "execution_count": null,
      "outputs": []
    },
    {
      "cell_type": "code",
      "source": [
        "from transformers import GPT2Tokenizer\n",
        "checkpoint = 'distilbert-base-cased'\n",
        "tokenizer = AutoTokenizer.from_pretrained(checkpoint)"
      ],
      "metadata": {
        "id": "VIZS6sEevOBD",
        "colab": {
          "base_uri": "https://localhost:8080/",
          "height": 145,
          "referenced_widgets": [
            "221c2d6898b641edadae84f16858c4af",
            "b522f0d2f89a43dbb75aa04c7c6f23a5",
            "694c7ded36da47a8b25cedc0813318a1",
            "c913121e283d411bab6268e4c1531b39",
            "e07eae76a40548e9969f382e1cf9abdd",
            "b19c69d843a04df29dd675cd14d0e3f5",
            "95e8c4119db3449cbbda82527f937fc7",
            "5469c3e3cc924021b14fb56ea8af6b2c",
            "08144a000f94412d989f10d696cfc104",
            "5aaac79b387c441cbcbfa267a9c3fc97",
            "2fa1dfedce1940f38f325ffdb0594fbd",
            "47db017085384b28ab7dd39cbde5d9cc",
            "e6e037a88dad49c487e4570d15b4c1f0",
            "6f34f6552a164e7ea0cd983383d79e92",
            "11e73cc5c32e4bc4a7f0abafb2786b6c",
            "b382cd09748f4f13bc80690d8ab35bca",
            "6f4aae3ad5c949c3b0a35bf77a40c89c",
            "08106537f5c04151a4b554e0ad136edb",
            "98a1152759b4437784532fe3692efaa3",
            "1fc0e076be664161af4338e443d5ad69",
            "c3be42b796834d3fa4786a748e826285",
            "e1465bae47894bf3ac060d24ca6e9c4f",
            "7b03a44e945a4024aced45d320ffda80",
            "ed08a3c3dd2d43b7a6e1f03982b4d1e0",
            "a5917dfd96aa4292a6f65cef44e1277f",
            "27866857c2a7420cb4a8b917d8a6e438",
            "b2db776521fe4d1eb0a77fbf7aaf0102",
            "fb1e551f795c46e69be430bbce6dc598",
            "b8810d5776084a7fba780e34389c21ab",
            "f1883cf1e25a4979a7b9f04bdee6d90e",
            "4eb859f5ebba47baaf219f970723c590",
            "5607939c99054ab7a46a950eaf68a242",
            "8a370350dff8433781ce46d6b2e458b1",
            "ab870094f11246589809df27cc052c32",
            "4c13a98ca497496581d6ecba02563be5",
            "c74f0cbcfb8f43afab71a49af95243e8",
            "dd71ea04abb44fb4aaf4a3731e6b25a4",
            "3dab09164bab4132b66d12ce86f58fd1",
            "38709505f954432781523a20fddc97e6",
            "eb9e06f9f6e94f038d2a568b40be52bd",
            "e5cb4547361847eab1e5700dce4bd8d0",
            "7efa23309a2e4adf8d620acfda1f0c28",
            "b1ef9ed0d4d04122abdedc8285813d56",
            "ca53e92a84f04243a2f7fabf254e3f8d"
          ]
        },
        "outputId": "c1b8daa0-2e17-4eb6-ff27-5d37d3328393"
      },
      "execution_count": null,
      "outputs": [
        {
          "output_type": "display_data",
          "data": {
            "text/plain": [
              "tokenizer_config.json:   0%|          | 0.00/29.0 [00:00<?, ?B/s]"
            ],
            "application/vnd.jupyter.widget-view+json": {
              "version_major": 2,
              "version_minor": 0,
              "model_id": "221c2d6898b641edadae84f16858c4af"
            }
          },
          "metadata": {}
        },
        {
          "output_type": "display_data",
          "data": {
            "text/plain": [
              "config.json:   0%|          | 0.00/465 [00:00<?, ?B/s]"
            ],
            "application/vnd.jupyter.widget-view+json": {
              "version_major": 2,
              "version_minor": 0,
              "model_id": "47db017085384b28ab7dd39cbde5d9cc"
            }
          },
          "metadata": {}
        },
        {
          "output_type": "display_data",
          "data": {
            "text/plain": [
              "vocab.txt:   0%|          | 0.00/213k [00:00<?, ?B/s]"
            ],
            "application/vnd.jupyter.widget-view+json": {
              "version_major": 2,
              "version_minor": 0,
              "model_id": "7b03a44e945a4024aced45d320ffda80"
            }
          },
          "metadata": {}
        },
        {
          "output_type": "display_data",
          "data": {
            "text/plain": [
              "tokenizer.json:   0%|          | 0.00/436k [00:00<?, ?B/s]"
            ],
            "application/vnd.jupyter.widget-view+json": {
              "version_major": 2,
              "version_minor": 0,
              "model_id": "ab870094f11246589809df27cc052c32"
            }
          },
          "metadata": {}
        }
      ]
    },
    {
      "cell_type": "code",
      "source": [
        "path_lines = [\"/content/Harry Potter 1 Sorcerer's_Stone.txt\",\n",
        "              \"/content/Harry Potter 2 Chamber_of_Secrets.txt\",\n",
        "              \"/content/Harry Potter 3 Prisoner of Azkaban.txt\",\n",
        "              \"/content/Harry Potter 4 and the Goblet of Fire.txt\",\n",
        "              \"/content/Book 5 - The Order of the Phoenix.txt\",\n",
        "              \"/content/Book 6 - The Half Blood Prince.txt\",\n",
        "              \"/content/Book 7 - The Deathly Hallows.txt\"]"
      ],
      "metadata": {
        "id": "tSTxdNut3SxZ"
      },
      "execution_count": null,
      "outputs": []
    },
    {
      "cell_type": "code",
      "source": [
        "sentences = []\n",
        "for path in path_lines:\n",
        "  with open(path, mode=\"r\") as file:\n",
        "    content = file.read()\n",
        "    sentences = content.split(\"\\n\\n\")"
      ],
      "metadata": {
        "id": "FEgymj352gYI"
      },
      "execution_count": null,
      "outputs": []
    },
    {
      "cell_type": "code",
      "source": [
        "sentences[1]"
      ],
      "metadata": {
        "colab": {
          "base_uri": "https://localhost:8080/",
          "height": 35
        },
        "id": "xQriMyaaGP9E",
        "outputId": "e142ea92-ba02-45e3-80b8-2d41427277c1"
      },
      "execution_count": null,
      "outputs": [
        {
          "output_type": "execute_result",
          "data": {
            "text/plain": [
              "''"
            ],
            "application/vnd.google.colaboratory.intrinsic+json": {
              "type": "string"
            }
          },
          "metadata": {},
          "execution_count": 18
        }
      ]
    },
    {
      "cell_type": "code",
      "source": [
        "max = 512\n",
        "text = 0\n",
        "for _ in range(2):\n",
        "  for idx, i in enumerate(sentences):\n",
        "    if i ==\"\" or i==\" \":\n",
        "      del sentences[idx]\n",
        "    if i.startswith(\"Page | \") or len(i) < 3:\n",
        "      del sentences[idx]\n",
        "    if len(i) >= max:\n",
        "      temp = sentences.pop(idx).split(\".\")\n",
        "      sentences.extend(temp)\n",
        "      text = idx"
      ],
      "metadata": {
        "id": "LBOQjQHd4VHN"
      },
      "execution_count": null,
      "outputs": []
    },
    {
      "cell_type": "code",
      "source": [
        "from pprint import pprint"
      ],
      "metadata": {
        "id": "En6MjTfa5eVK"
      },
      "execution_count": null,
      "outputs": []
    },
    {
      "cell_type": "code",
      "source": [
        "len(sentences[idx])"
      ],
      "metadata": {
        "colab": {
          "base_uri": "https://localhost:8080/"
        },
        "id": "S0BLYO6IEwhz",
        "outputId": "7a1d37e5-887a-45b0-c3f2-17f64e214c41"
      },
      "execution_count": null,
      "outputs": [
        {
          "output_type": "execute_result",
          "data": {
            "text/plain": [
              "537"
            ]
          },
          "metadata": {},
          "execution_count": 21
        }
      ]
    },
    {
      "cell_type": "code",
      "source": [
        "pprint(len(sentences[text]))"
      ],
      "metadata": {
        "colab": {
          "base_uri": "https://localhost:8080/"
        },
        "id": "qCTzyzw45nAv",
        "outputId": "2b70ff80-5837-47ca-abd7-ff9dc93675f0"
      },
      "execution_count": null,
      "outputs": [
        {
          "output_type": "stream",
          "name": "stdout",
          "text": [
            "208\n"
          ]
        }
      ]
    },
    {
      "cell_type": "code",
      "source": [
        "\n",
        "#from sklearn.model_selection import train_test_split"
      ],
      "metadata": {
        "id": "avcGQwQj7fbs"
      },
      "execution_count": null,
      "outputs": []
    },
    {
      "cell_type": "code",
      "source": [
        "# train, test = train_test_split(sentences, test_size = 0.25, random_state=771994)"
      ],
      "metadata": {
        "id": "WkLFG_A_7vcx"
      },
      "execution_count": null,
      "outputs": []
    },
    {
      "cell_type": "code",
      "source": [
        "import json\n",
        "\n",
        "with open(\"harry.json\", \"w\") as f:\n",
        "  for x in sentences:\n",
        "    j = {\"sentence\": x}\n",
        "    s = json.dumps(j)\n",
        "    f.write(f\"{s}\\n\")"
      ],
      "metadata": {
        "id": "pXTqNe4C7FbW"
      },
      "execution_count": null,
      "outputs": []
    },
    {
      "cell_type": "code",
      "source": [
        "len(sentences)"
      ],
      "metadata": {
        "colab": {
          "base_uri": "https://localhost:8080/"
        },
        "id": "VRUz-4Sz3mcm",
        "outputId": "2b0e71fb-11e6-44a1-f722-13a34715b19d"
      },
      "execution_count": null,
      "outputs": [
        {
          "output_type": "execute_result",
          "data": {
            "text/plain": [
              "6867"
            ]
          },
          "metadata": {},
          "execution_count": 26
        }
      ]
    },
    {
      "cell_type": "code",
      "source": [
        "# checkpoint = 'distilbert-base-cased'\n",
        "# tokenizer = AutoTokenizer.from_pretrained(checkpoint)"
      ],
      "metadata": {
        "id": "1UVzcMWAnYm6"
      },
      "execution_count": null,
      "outputs": []
    },
    {
      "cell_type": "code",
      "source": [
        "from datasets import load_dataset\n",
        "\n",
        "# # we'll use the same dataset, just ignore the labels\n",
        "# raw_datasets = load_dataset(\"glue\", \"sst2\")"
      ],
      "metadata": {
        "id": "AF0xaZFw09G4"
      },
      "execution_count": null,
      "outputs": []
    },
    {
      "cell_type": "code",
      "source": [
        "raw_datasets = load_dataset(\"json\", data_files='harry.json', split=\"train\")"
      ],
      "metadata": {
        "colab": {
          "base_uri": "https://localhost:8080/",
          "height": 113,
          "referenced_widgets": [
            "5e2febedce414eeba61a45aec914e05c",
            "824fac5325fe4266be1e203c1d1fc1e5",
            "69bcf53cb7594eb893806a84d7bd5431",
            "5d46a8a929304b99986279a434486227",
            "d5dbad425ee34ebc9ceab0d6b001b399",
            "5620421e4ad04b5491ad8fb8d4a4fa9b",
            "f6ac51be241e49a084ec399d750701fb",
            "7fdc0c6c4c774c4bbe5719c3c8c52035",
            "efdcb77e54f0480cb3252bdd881e8b15",
            "17a4b7c381fa49f78e9c646cd7309152",
            "9c51ff11a97a47f4ac2fc1279e0b4256",
            "dab3d8595f8d4e9b9d8bcdec6964e03c",
            "5b9489789bf1482fb9416207e82a6d5c",
            "fa616caf337541528e08d78eb9b57730",
            "8205052542e642adb6715261251ea304",
            "e8a5d5269e1e42ee81cb53cad2b870d1",
            "cd12eb0ffdb04e428613466f4a2cd037",
            "79581e02e5654faaa95b921a3e0056b1",
            "0a9660b060cb44d09845f2c917ab7ce9",
            "a3af973e0e684eaead1e732b790021a6",
            "0697a96a3b574081b5d275e25c3665cc",
            "3fe34f01e7b645e688a2f2afa2f01ba2",
            "c1110d5bbe36407bbf5e2a33124c31bf",
            "49c6f92b57c247ada62163987c23f3c7",
            "4b943a87f3da482a82833ee5052a527a",
            "37cb80e8c6804518a31115cdf21da241",
            "d1c8b92fcf214c7ba315201d594c3bbb",
            "eb250f5ce4124f6a9d4c534f2af14a08",
            "a7a5e2e5baac4dd684b6ce839acb7081",
            "f27b7199cb8241d0a9af9574db38ee48",
            "f3b0d16efcfd4b76a0661970f9919237",
            "ce7f472ddad5400998528e3d99aefc5b",
            "203cadc0c40744e3b58dbe069ecc7f23"
          ]
        },
        "id": "iJ7RwBak9frH",
        "outputId": "4135094c-5db2-4755-bb72-11f507a5aed6"
      },
      "execution_count": null,
      "outputs": [
        {
          "output_type": "display_data",
          "data": {
            "text/plain": [
              "Downloading data files:   0%|          | 0/1 [00:00<?, ?it/s]"
            ],
            "application/vnd.jupyter.widget-view+json": {
              "version_major": 2,
              "version_minor": 0,
              "model_id": "5e2febedce414eeba61a45aec914e05c"
            }
          },
          "metadata": {}
        },
        {
          "output_type": "display_data",
          "data": {
            "text/plain": [
              "Extracting data files:   0%|          | 0/1 [00:00<?, ?it/s]"
            ],
            "application/vnd.jupyter.widget-view+json": {
              "version_major": 2,
              "version_minor": 0,
              "model_id": "dab3d8595f8d4e9b9d8bcdec6964e03c"
            }
          },
          "metadata": {}
        },
        {
          "output_type": "display_data",
          "data": {
            "text/plain": [
              "Generating train split: 0 examples [00:00, ? examples/s]"
            ],
            "application/vnd.jupyter.widget-view+json": {
              "version_major": 2,
              "version_minor": 0,
              "model_id": "c1110d5bbe36407bbf5e2a33124c31bf"
            }
          },
          "metadata": {}
        }
      ]
    },
    {
      "cell_type": "code",
      "source": [
        "raw_datasets = raw_datasets.train_test_split(test_size=0.001)"
      ],
      "metadata": {
        "id": "7fm7oQUE9o8p"
      },
      "execution_count": null,
      "outputs": []
    },
    {
      "cell_type": "code",
      "source": [
        "# # we will use the same dataset but ignore the labels\n",
        "# raw_datasets = load_dataset(\"eturok/harry_potter_tokenized\")"
      ],
      "metadata": {
        "id": "tLQD_lB-1B3z"
      },
      "execution_count": null,
      "outputs": []
    },
    {
      "cell_type": "code",
      "source": [
        "# decode_text = tokenizer.decode(raw_datasets[\"train\"][\"input_ids\"][0])"
      ],
      "metadata": {
        "id": "k_G5Kk7ntrye"
      },
      "execution_count": null,
      "outputs": []
    },
    {
      "cell_type": "code",
      "source": [
        "raw_datasets"
      ],
      "metadata": {
        "colab": {
          "base_uri": "https://localhost:8080/"
        },
        "id": "lz4Xa6BG4VYC",
        "outputId": "deb73c48-f746-4108-a4f3-d98b38b3e35b"
      },
      "execution_count": null,
      "outputs": [
        {
          "output_type": "execute_result",
          "data": {
            "text/plain": [
              "DatasetDict({\n",
              "    train: Dataset({\n",
              "        features: ['sentence'],\n",
              "        num_rows: 6860\n",
              "    })\n",
              "    test: Dataset({\n",
              "        features: ['sentence'],\n",
              "        num_rows: 7\n",
              "    })\n",
              "})"
            ]
          },
          "metadata": {},
          "execution_count": 33
        }
      ]
    },
    {
      "cell_type": "code",
      "source": [
        "def tokenize_fn(batch):\n",
        "  return tokenizer(batch['sentence'], truncation=True)"
      ],
      "metadata": {
        "id": "0_p9IteQ15da"
      },
      "execution_count": null,
      "outputs": []
    },
    {
      "cell_type": "code",
      "source": [
        "tokenized_datasets = raw_datasets.map(tokenize_fn, batched=True)\n",
        "data_collator = DataCollatorWithPadding(tokenizer=tokenizer)"
      ],
      "metadata": {
        "colab": {
          "base_uri": "https://localhost:8080/",
          "height": 81,
          "referenced_widgets": [
            "5517d74353354f72bdb59b18f7fa62dd",
            "87851dc23bda4a6297281c68fb7aecfe",
            "784f4a5cff3d4b7da1b6bbdbc63505c3",
            "bc44cf54136044bcb05bd604552bc98f",
            "aab3159adc5c477daddad3d3f0716f84",
            "af2e261303ed4a6fa63323f767e44fb8",
            "80ed83921851426293bb198c68f443a2",
            "ee65d3a2c55944828255bc0b2d7d4e89",
            "fcc7a192d5b8493b9948e5123b07e510",
            "d7c6c4e92862478987b151014def8a2f",
            "9e45103ced4442f1a09deb693b74947c",
            "5795aa65ef97445685af928f446b647c",
            "f09a6bac94af48ce8e711d3681d2ef33",
            "60fa2bd8f769480193a80f23a818e8a7",
            "c5251f7c3e2040a59e73b49c25428c8d",
            "ac2d15706daf40fe8268c01195fe646c",
            "9baee9acb4224562ba9dc36859f43bd7",
            "675f517e594947459167ba73b7641c43",
            "4a1bf5323ebe4d65b24f59ae021d6658",
            "9525c3bd860943418da46d7da41a3ada",
            "4de3edbc301840068d38ee9b126cdc30",
            "3b1eef373fa7455a824791bddd5d8c86"
          ]
        },
        "id": "UZYP8VG72ZD3",
        "outputId": "dbbcb107-9e1b-4eba-e95b-d46487b1056a"
      },
      "execution_count": null,
      "outputs": [
        {
          "output_type": "display_data",
          "data": {
            "text/plain": [
              "Map:   0%|          | 0/6860 [00:00<?, ? examples/s]"
            ],
            "application/vnd.jupyter.widget-view+json": {
              "version_major": 2,
              "version_minor": 0,
              "model_id": "5517d74353354f72bdb59b18f7fa62dd"
            }
          },
          "metadata": {}
        },
        {
          "output_type": "display_data",
          "data": {
            "text/plain": [
              "Map:   0%|          | 0/7 [00:00<?, ? examples/s]"
            ],
            "application/vnd.jupyter.widget-view+json": {
              "version_major": 2,
              "version_minor": 0,
              "model_id": "5795aa65ef97445685af928f446b647c"
            }
          },
          "metadata": {}
        }
      ]
    },
    {
      "cell_type": "code",
      "source": [
        "tokenized_datasets"
      ],
      "metadata": {
        "colab": {
          "base_uri": "https://localhost:8080/"
        },
        "id": "k6MoAIi62htm",
        "outputId": "168a0dc0-021f-4fac-9a49-cd804ece7780"
      },
      "execution_count": null,
      "outputs": [
        {
          "output_type": "execute_result",
          "data": {
            "text/plain": [
              "DatasetDict({\n",
              "    train: Dataset({\n",
              "        features: ['sentence', 'input_ids', 'attention_mask'],\n",
              "        num_rows: 6860\n",
              "    })\n",
              "    test: Dataset({\n",
              "        features: ['sentence', 'input_ids', 'attention_mask'],\n",
              "        num_rows: 7\n",
              "    })\n",
              "})"
            ]
          },
          "metadata": {},
          "execution_count": 36
        }
      ]
    },
    {
      "cell_type": "code",
      "source": [
        "tokenized_datasets = tokenized_datasets.remove_columns([\"sentence\"])"
      ],
      "metadata": {
        "id": "1uiNPXfZ2jC9"
      },
      "execution_count": null,
      "outputs": []
    },
    {
      "cell_type": "code",
      "source": [
        "from torch.utils.data import DataLoader"
      ],
      "metadata": {
        "id": "JQ6ufs4h4vaS"
      },
      "execution_count": null,
      "outputs": []
    },
    {
      "cell_type": "code",
      "source": [
        "train_loader = DataLoader(\n",
        "    tokenized_datasets[\"train\"],\n",
        "    shuffle = True,\n",
        "    batch_size = 32,\n",
        "    collate_fn=data_collator\n",
        ")"
      ],
      "metadata": {
        "id": "CTBVNUGH4ySi"
      },
      "execution_count": null,
      "outputs": []
    },
    {
      "cell_type": "code",
      "source": [
        "train_loader"
      ],
      "metadata": {
        "id": "tG2eNcTD0bTn",
        "colab": {
          "base_uri": "https://localhost:8080/"
        },
        "outputId": "880ad335-cab0-4ffe-df50-f8295344884a"
      },
      "execution_count": null,
      "outputs": [
        {
          "output_type": "execute_result",
          "data": {
            "text/plain": [
              "<torch.utils.data.dataloader.DataLoader at 0x7cec7dfa4940>"
            ]
          },
          "metadata": {},
          "execution_count": 40
        }
      ]
    },
    {
      "cell_type": "code",
      "source": [
        "#check how it works\n",
        "for batch in train_loader:\n",
        "  for k, v in batch.items():\n",
        "    print(\"k\", k, \"v.shape:\", v.shape)\n",
        "  break"
      ],
      "metadata": {
        "colab": {
          "base_uri": "https://localhost:8080/"
        },
        "id": "5HjIktQc5JRe",
        "outputId": "d8773a75-e878-400c-940a-4e3a2b96997b"
      },
      "execution_count": null,
      "outputs": [
        {
          "output_type": "stream",
          "name": "stderr",
          "text": [
            "You're using a DistilBertTokenizerFast tokenizer. Please note that with a fast tokenizer, using the `__call__` method is faster than using a method to encode the text followed by a call to the `pad` method to get a padded encoding.\n"
          ]
        },
        {
          "output_type": "stream",
          "name": "stdout",
          "text": [
            "k input_ids v.shape: torch.Size([32, 76])\n",
            "k attention_mask v.shape: torch.Size([32, 76])\n"
          ]
        }
      ]
    },
    {
      "cell_type": "code",
      "source": [
        "tokenizer.max_model_input_sizes[checkpoint]"
      ],
      "metadata": {
        "colab": {
          "base_uri": "https://localhost:8080/"
        },
        "id": "6ZsNIhcQ5W-x",
        "outputId": "f98aaad3-63b9-4a0a-d3bc-b6b955294bad"
      },
      "execution_count": null,
      "outputs": [
        {
          "output_type": "execute_result",
          "data": {
            "text/plain": [
              "512"
            ]
          },
          "metadata": {},
          "execution_count": 42
        }
      ]
    },
    {
      "cell_type": "code",
      "source": [
        "model = Decoder(\n",
        "    vocab_size = tokenizer.vocab_size,\n",
        "    max_len = tokenizer.max_model_input_sizes[checkpoint],\n",
        "    d_k = 32,\n",
        "    d_model=128,\n",
        "    n_heads=8,\n",
        "    n_layers=4,\n",
        "    dropout_prob=0.1\n",
        ")\n",
        "model.to(device)"
      ],
      "metadata": {
        "colab": {
          "base_uri": "https://localhost:8080/"
        },
        "id": "6uy3lqsh6PbC",
        "outputId": "0c9e0808-6ab0-49e3-f7d5-dbfe0b51c599"
      },
      "execution_count": null,
      "outputs": [
        {
          "output_type": "execute_result",
          "data": {
            "text/plain": [
              "Decoder(\n",
              "  (embedding): Embedding(28996, 128)\n",
              "  (pos_encoding): PositionalEncoding(\n",
              "    (dropout): Dropout(p=0.1, inplace=False)\n",
              "  )\n",
              "  (transformer_blocks): Sequential(\n",
              "    (0): TransformerBlock(\n",
              "      (ln1): LayerNorm((128,), eps=1e-05, elementwise_affine=True)\n",
              "      (ln2): LayerNorm((128,), eps=1e-05, elementwise_affine=True)\n",
              "      (mha): CausalSelfAttention(\n",
              "        (key): Linear(in_features=128, out_features=256, bias=True)\n",
              "        (query): Linear(in_features=128, out_features=256, bias=True)\n",
              "        (value): Linear(in_features=128, out_features=256, bias=True)\n",
              "        (fc): Linear(in_features=256, out_features=128, bias=True)\n",
              "      )\n",
              "      (ann): Sequential(\n",
              "        (0): Linear(in_features=128, out_features=512, bias=True)\n",
              "        (1): GELU(approximate='none')\n",
              "        (2): Linear(in_features=512, out_features=128, bias=True)\n",
              "        (3): Dropout(p=0.1, inplace=False)\n",
              "      )\n",
              "      (dropout): Dropout(p=0.1, inplace=False)\n",
              "    )\n",
              "    (1): TransformerBlock(\n",
              "      (ln1): LayerNorm((128,), eps=1e-05, elementwise_affine=True)\n",
              "      (ln2): LayerNorm((128,), eps=1e-05, elementwise_affine=True)\n",
              "      (mha): CausalSelfAttention(\n",
              "        (key): Linear(in_features=128, out_features=256, bias=True)\n",
              "        (query): Linear(in_features=128, out_features=256, bias=True)\n",
              "        (value): Linear(in_features=128, out_features=256, bias=True)\n",
              "        (fc): Linear(in_features=256, out_features=128, bias=True)\n",
              "      )\n",
              "      (ann): Sequential(\n",
              "        (0): Linear(in_features=128, out_features=512, bias=True)\n",
              "        (1): GELU(approximate='none')\n",
              "        (2): Linear(in_features=512, out_features=128, bias=True)\n",
              "        (3): Dropout(p=0.1, inplace=False)\n",
              "      )\n",
              "      (dropout): Dropout(p=0.1, inplace=False)\n",
              "    )\n",
              "    (2): TransformerBlock(\n",
              "      (ln1): LayerNorm((128,), eps=1e-05, elementwise_affine=True)\n",
              "      (ln2): LayerNorm((128,), eps=1e-05, elementwise_affine=True)\n",
              "      (mha): CausalSelfAttention(\n",
              "        (key): Linear(in_features=128, out_features=256, bias=True)\n",
              "        (query): Linear(in_features=128, out_features=256, bias=True)\n",
              "        (value): Linear(in_features=128, out_features=256, bias=True)\n",
              "        (fc): Linear(in_features=256, out_features=128, bias=True)\n",
              "      )\n",
              "      (ann): Sequential(\n",
              "        (0): Linear(in_features=128, out_features=512, bias=True)\n",
              "        (1): GELU(approximate='none')\n",
              "        (2): Linear(in_features=512, out_features=128, bias=True)\n",
              "        (3): Dropout(p=0.1, inplace=False)\n",
              "      )\n",
              "      (dropout): Dropout(p=0.1, inplace=False)\n",
              "    )\n",
              "    (3): TransformerBlock(\n",
              "      (ln1): LayerNorm((128,), eps=1e-05, elementwise_affine=True)\n",
              "      (ln2): LayerNorm((128,), eps=1e-05, elementwise_affine=True)\n",
              "      (mha): CausalSelfAttention(\n",
              "        (key): Linear(in_features=128, out_features=256, bias=True)\n",
              "        (query): Linear(in_features=128, out_features=256, bias=True)\n",
              "        (value): Linear(in_features=128, out_features=256, bias=True)\n",
              "        (fc): Linear(in_features=256, out_features=128, bias=True)\n",
              "      )\n",
              "      (ann): Sequential(\n",
              "        (0): Linear(in_features=128, out_features=512, bias=True)\n",
              "        (1): GELU(approximate='none')\n",
              "        (2): Linear(in_features=512, out_features=128, bias=True)\n",
              "        (3): Dropout(p=0.1, inplace=False)\n",
              "      )\n",
              "      (dropout): Dropout(p=0.1, inplace=False)\n",
              "    )\n",
              "  )\n",
              "  (ln): LayerNorm((128,), eps=1e-05, elementwise_affine=True)\n",
              "  (fc): Linear(in_features=128, out_features=28996, bias=True)\n",
              ")"
            ]
          },
          "metadata": {},
          "execution_count": 43
        }
      ]
    },
    {
      "cell_type": "code",
      "source": [
        "#Loss and optimizer\n",
        "criterion = nn.CrossEntropyLoss(ignore_index=tokenizer.pad_token_id) #avoid padding tokens for the loss\n",
        "optimizer = torch.optim.Adam(model.parameters())"
      ],
      "metadata": {
        "id": "uLrlMWQ97aNK"
      },
      "execution_count": null,
      "outputs": []
    },
    {
      "cell_type": "code",
      "source": [
        "from datetime import datetime"
      ],
      "metadata": {
        "id": "6jAx_k1A9P3p"
      },
      "execution_count": null,
      "outputs": []
    },
    {
      "cell_type": "code",
      "source": [
        "# A function to encapsulate the training loop\n",
        "def train(model, criterion, optimizer, train_loader, epochs):\n",
        "  train_losses = np.zeros(epochs)\n",
        "\n",
        "  for it in range(epochs):\n",
        "    model.train()\n",
        "    t0 = datetime.now()\n",
        "    train_loss = []\n",
        "    for batch in train_loader:\n",
        "      # move data to GPU\n",
        "      batch = {k: v.to(device) for k, v in batch.items()}\n",
        "\n",
        "      # zero the parameter gradients\n",
        "      optimizer.zero_grad()\n",
        "\n",
        "      # shift targets backwards\n",
        "      targets = batch['input_ids'].clone().detach()\n",
        "      targets = torch.roll(targets, shifts=-1, dims=1)\n",
        "      targets[:, -1] = tokenizer.pad_token_id\n",
        "\n",
        "      # Forward pass\n",
        "      outputs = model(batch['input_ids'], batch['attention_mask'])\n",
        "      # outputs are N x T x V\n",
        "      # but PyTorch expects N x V x T\n",
        "      # print(\"outputs:\", outputs)\n",
        "      # print(\"targets:\", targets)\n",
        "      loss = criterion(outputs.transpose(2, 1), targets)\n",
        "      # N, T, V = outputs.shape\n",
        "      # loss = criterion(outputs.view(N * T, V), targets.view(N * T))\n",
        "\n",
        "      # Backward and optimize\n",
        "      loss.backward()\n",
        "      optimizer.step()\n",
        "      train_loss.append(loss.item())\n",
        "\n",
        "    # Get train loss and test loss\n",
        "    train_loss = np.mean(train_loss)\n",
        "\n",
        "    # Save losses\n",
        "    train_losses[it] = train_loss\n",
        "\n",
        "    dt = datetime.now() - t0\n",
        "    print(f'Epoch {it+1}/{epochs}, Train Loss: {train_loss:.4f}, Duration: {dt}')\n",
        "\n",
        "  return train_losses"
      ],
      "metadata": {
        "id": "V7moWKNk9SRn"
      },
      "execution_count": null,
      "outputs": []
    },
    {
      "cell_type": "code",
      "source": [
        "train_losses = train(\n",
        "    model, criterion, optimizer, train_loader, epochs=300\n",
        ")"
      ],
      "metadata": {
        "id": "QFFyTfapInrV",
        "colab": {
          "base_uri": "https://localhost:8080/",
          "height": 1000
        },
        "outputId": "bc76d31f-4c70-4b37-def3-230289f37cfd"
      },
      "execution_count": null,
      "outputs": [
        {
          "output_type": "stream",
          "name": "stdout",
          "text": [
            "Epoch 1/300, Train Loss: 4.3464, Duration: 0:00:25.206484\n",
            "Epoch 2/300, Train Loss: 4.1923, Duration: 0:00:24.666445\n",
            "Epoch 3/300, Train Loss: 4.0677, Duration: 0:00:24.707204\n",
            "Epoch 4/300, Train Loss: 3.9634, Duration: 0:00:24.814130\n",
            "Epoch 5/300, Train Loss: 3.8689, Duration: 0:00:24.838477\n",
            "Epoch 6/300, Train Loss: 3.7881, Duration: 0:00:24.675958\n",
            "Epoch 7/300, Train Loss: 3.7113, Duration: 0:00:24.650396\n",
            "Epoch 8/300, Train Loss: 3.6442, Duration: 0:00:24.754393\n",
            "Epoch 9/300, Train Loss: 3.5787, Duration: 0:00:24.573009\n",
            "Epoch 10/300, Train Loss: 3.5231, Duration: 0:00:24.481655\n",
            "Epoch 11/300, Train Loss: 3.4660, Duration: 0:00:24.812073\n",
            "Epoch 12/300, Train Loss: 3.4115, Duration: 0:00:24.608718\n",
            "Epoch 13/300, Train Loss: 3.3619, Duration: 0:00:24.821597\n",
            "Epoch 14/300, Train Loss: 3.3184, Duration: 0:00:24.801487\n",
            "Epoch 15/300, Train Loss: 3.2735, Duration: 0:00:24.598446\n",
            "Epoch 16/300, Train Loss: 3.2281, Duration: 0:00:24.757297\n",
            "Epoch 17/300, Train Loss: 3.1918, Duration: 0:00:24.541674\n",
            "Epoch 18/300, Train Loss: 3.1541, Duration: 0:00:24.846689\n",
            "Epoch 19/300, Train Loss: 3.1199, Duration: 0:00:24.789836\n",
            "Epoch 20/300, Train Loss: 3.0829, Duration: 0:00:24.619848\n",
            "Epoch 21/300, Train Loss: 3.0568, Duration: 0:00:24.670902\n",
            "Epoch 22/300, Train Loss: 3.0253, Duration: 0:00:24.925986\n",
            "Epoch 23/300, Train Loss: 2.9983, Duration: 0:00:25.010751\n",
            "Epoch 24/300, Train Loss: 2.9688, Duration: 0:00:24.636056\n",
            "Epoch 25/300, Train Loss: 2.9418, Duration: 0:00:24.584230\n",
            "Epoch 26/300, Train Loss: 2.9161, Duration: 0:00:24.789534\n",
            "Epoch 27/300, Train Loss: 2.8933, Duration: 0:00:24.735873\n",
            "Epoch 28/300, Train Loss: 2.8673, Duration: 0:00:24.773308\n",
            "Epoch 29/300, Train Loss: 2.8497, Duration: 0:00:24.725841\n",
            "Epoch 30/300, Train Loss: 2.8269, Duration: 0:00:24.719807\n",
            "Epoch 31/300, Train Loss: 2.8031, Duration: 0:00:24.547394\n",
            "Epoch 32/300, Train Loss: 2.7871, Duration: 0:00:24.798048\n",
            "Epoch 33/300, Train Loss: 2.7694, Duration: 0:00:24.715942\n",
            "Epoch 34/300, Train Loss: 2.7511, Duration: 0:00:24.725613\n",
            "Epoch 35/300, Train Loss: 2.7276, Duration: 0:00:24.818732\n",
            "Epoch 36/300, Train Loss: 2.7199, Duration: 0:00:24.743230\n",
            "Epoch 37/300, Train Loss: 2.7028, Duration: 0:00:24.995463\n",
            "Epoch 38/300, Train Loss: 2.6802, Duration: 0:00:24.682446\n",
            "Epoch 39/300, Train Loss: 2.6759, Duration: 0:00:24.716466\n",
            "Epoch 40/300, Train Loss: 2.6553, Duration: 0:00:24.905270\n",
            "Epoch 41/300, Train Loss: 2.6456, Duration: 0:00:24.824540\n",
            "Epoch 42/300, Train Loss: 2.6279, Duration: 0:00:24.646823\n",
            "Epoch 43/300, Train Loss: 2.6110, Duration: 0:00:24.836432\n",
            "Epoch 44/300, Train Loss: 2.6008, Duration: 0:00:24.597858\n",
            "Epoch 45/300, Train Loss: 2.5895, Duration: 0:00:24.780713\n",
            "Epoch 46/300, Train Loss: 2.5705, Duration: 0:00:24.529733\n",
            "Epoch 47/300, Train Loss: 2.5636, Duration: 0:00:24.696531\n",
            "Epoch 48/300, Train Loss: 2.5496, Duration: 0:00:24.592630\n",
            "Epoch 49/300, Train Loss: 2.5448, Duration: 0:00:24.615049\n",
            "Epoch 50/300, Train Loss: 2.5277, Duration: 0:00:24.696595\n",
            "Epoch 51/300, Train Loss: 2.5224, Duration: 0:00:24.763651\n",
            "Epoch 52/300, Train Loss: 2.5048, Duration: 0:00:24.545397\n",
            "Epoch 53/300, Train Loss: 2.4970, Duration: 0:00:24.797200\n",
            "Epoch 54/300, Train Loss: 2.4898, Duration: 0:00:24.600407\n",
            "Epoch 55/300, Train Loss: 2.4796, Duration: 0:00:24.606479\n",
            "Epoch 56/300, Train Loss: 2.4691, Duration: 0:00:24.850036\n",
            "Epoch 57/300, Train Loss: 2.4566, Duration: 0:00:24.727806\n",
            "Epoch 58/300, Train Loss: 2.4531, Duration: 0:00:24.697783\n",
            "Epoch 59/300, Train Loss: 2.4402, Duration: 0:00:24.806765\n",
            "Epoch 60/300, Train Loss: 2.4304, Duration: 0:00:24.738409\n",
            "Epoch 61/300, Train Loss: 2.4206, Duration: 0:00:24.692922\n",
            "Epoch 62/300, Train Loss: 2.4075, Duration: 0:00:24.646584\n",
            "Epoch 63/300, Train Loss: 2.4033, Duration: 0:00:24.543978\n",
            "Epoch 64/300, Train Loss: 2.3989, Duration: 0:00:24.818525\n",
            "Epoch 65/300, Train Loss: 2.3883, Duration: 0:00:24.823322\n",
            "Epoch 66/300, Train Loss: 2.3824, Duration: 0:00:24.760932\n",
            "Epoch 67/300, Train Loss: 2.3712, Duration: 0:00:24.755375\n",
            "Epoch 68/300, Train Loss: 2.3594, Duration: 0:00:24.725509\n",
            "Epoch 69/300, Train Loss: 2.3549, Duration: 0:00:24.650867\n",
            "Epoch 70/300, Train Loss: 2.3513, Duration: 0:00:24.747347\n",
            "Epoch 71/300, Train Loss: 2.3453, Duration: 0:00:24.825286\n",
            "Epoch 72/300, Train Loss: 2.3327, Duration: 0:00:24.673340\n",
            "Epoch 73/300, Train Loss: 2.3260, Duration: 0:00:24.746585\n",
            "Epoch 74/300, Train Loss: 2.3218, Duration: 0:00:24.912443\n",
            "Epoch 75/300, Train Loss: 2.3150, Duration: 0:00:24.679318\n",
            "Epoch 76/300, Train Loss: 2.3086, Duration: 0:00:24.594098\n",
            "Epoch 77/300, Train Loss: 2.3028, Duration: 0:00:24.858249\n",
            "Epoch 78/300, Train Loss: 2.2961, Duration: 0:00:24.711143\n",
            "Epoch 79/300, Train Loss: 2.2873, Duration: 0:00:24.803148\n",
            "Epoch 80/300, Train Loss: 2.2788, Duration: 0:00:24.703087\n",
            "Epoch 81/300, Train Loss: 2.2721, Duration: 0:00:24.894298\n",
            "Epoch 82/300, Train Loss: 2.2672, Duration: 0:00:24.915641\n",
            "Epoch 83/300, Train Loss: 2.2594, Duration: 0:00:24.758686\n",
            "Epoch 84/300, Train Loss: 2.2599, Duration: 0:00:24.566236\n",
            "Epoch 85/300, Train Loss: 2.2471, Duration: 0:00:24.818836\n",
            "Epoch 86/300, Train Loss: 2.2487, Duration: 0:00:24.729046\n",
            "Epoch 87/300, Train Loss: 2.2384, Duration: 0:00:24.677777\n",
            "Epoch 88/300, Train Loss: 2.2317, Duration: 0:00:24.688718\n",
            "Epoch 89/300, Train Loss: 2.2311, Duration: 0:00:24.768202\n",
            "Epoch 90/300, Train Loss: 2.2202, Duration: 0:00:24.491914\n",
            "Epoch 91/300, Train Loss: 2.2165, Duration: 0:00:24.686319\n",
            "Epoch 92/300, Train Loss: 2.2080, Duration: 0:00:24.588136\n",
            "Epoch 93/300, Train Loss: 2.2102, Duration: 0:00:24.750637\n",
            "Epoch 94/300, Train Loss: 2.2037, Duration: 0:00:24.612885\n",
            "Epoch 95/300, Train Loss: 2.1966, Duration: 0:00:24.528562\n",
            "Epoch 96/300, Train Loss: 2.1882, Duration: 0:00:24.639471\n",
            "Epoch 97/300, Train Loss: 2.1894, Duration: 0:00:24.863111\n",
            "Epoch 98/300, Train Loss: 2.1783, Duration: 0:00:24.737466\n",
            "Epoch 99/300, Train Loss: 2.1708, Duration: 0:00:24.759431\n",
            "Epoch 100/300, Train Loss: 2.1686, Duration: 0:00:24.868026\n",
            "Epoch 101/300, Train Loss: 2.1636, Duration: 0:00:24.724723\n",
            "Epoch 102/300, Train Loss: 2.1622, Duration: 0:00:24.818958\n",
            "Epoch 103/300, Train Loss: 2.1501, Duration: 0:00:24.746319\n",
            "Epoch 104/300, Train Loss: 2.1495, Duration: 0:00:24.599839\n",
            "Epoch 105/300, Train Loss: 2.1434, Duration: 0:00:24.654282\n",
            "Epoch 106/300, Train Loss: 2.1391, Duration: 0:00:24.678292\n",
            "Epoch 107/300, Train Loss: 2.1314, Duration: 0:00:24.810880\n",
            "Epoch 108/300, Train Loss: 2.1326, Duration: 0:00:24.707267\n",
            "Epoch 109/300, Train Loss: 2.1269, Duration: 0:00:24.641978\n",
            "Epoch 110/300, Train Loss: 2.1159, Duration: 0:00:24.852960\n",
            "Epoch 111/300, Train Loss: 2.1212, Duration: 0:00:24.557090\n",
            "Epoch 112/300, Train Loss: 2.1140, Duration: 0:00:24.762290\n",
            "Epoch 113/300, Train Loss: 2.1119, Duration: 0:00:24.793683\n",
            "Epoch 114/300, Train Loss: 2.1072, Duration: 0:00:24.748932\n",
            "Epoch 115/300, Train Loss: 2.1018, Duration: 0:00:24.910511\n",
            "Epoch 116/300, Train Loss: 2.1003, Duration: 0:00:24.952205\n",
            "Epoch 117/300, Train Loss: 2.0923, Duration: 0:00:24.889888\n",
            "Epoch 118/300, Train Loss: 2.0839, Duration: 0:00:24.785934\n",
            "Epoch 119/300, Train Loss: 2.0828, Duration: 0:00:24.786920\n",
            "Epoch 120/300, Train Loss: 2.0816, Duration: 0:00:24.559463\n",
            "Epoch 121/300, Train Loss: 2.0744, Duration: 0:00:24.695014\n",
            "Epoch 122/300, Train Loss: 2.0765, Duration: 0:00:24.719336\n",
            "Epoch 123/300, Train Loss: 2.0662, Duration: 0:00:24.953861\n",
            "Epoch 124/300, Train Loss: 2.0648, Duration: 0:00:24.897324\n",
            "Epoch 125/300, Train Loss: 2.0611, Duration: 0:00:25.025915\n",
            "Epoch 126/300, Train Loss: 2.0542, Duration: 0:00:24.739174\n",
            "Epoch 127/300, Train Loss: 2.0523, Duration: 0:00:24.813693\n",
            "Epoch 128/300, Train Loss: 2.0434, Duration: 0:00:24.778003\n",
            "Epoch 129/300, Train Loss: 2.0437, Duration: 0:00:24.797054\n",
            "Epoch 130/300, Train Loss: 2.0356, Duration: 0:00:24.861252\n",
            "Epoch 131/300, Train Loss: 2.0405, Duration: 0:00:24.851984\n",
            "Epoch 132/300, Train Loss: 2.0333, Duration: 0:00:24.865060\n",
            "Epoch 133/300, Train Loss: 2.0308, Duration: 0:00:24.789044\n",
            "Epoch 134/300, Train Loss: 2.0245, Duration: 0:00:24.545256\n",
            "Epoch 135/300, Train Loss: 2.0246, Duration: 0:00:24.881128\n",
            "Epoch 136/300, Train Loss: 2.0201, Duration: 0:00:24.780112\n",
            "Epoch 137/300, Train Loss: 2.0138, Duration: 0:00:24.761404\n",
            "Epoch 138/300, Train Loss: 2.0128, Duration: 0:00:24.853721\n",
            "Epoch 139/300, Train Loss: 2.0093, Duration: 0:00:24.836266\n",
            "Epoch 140/300, Train Loss: 2.0080, Duration: 0:00:24.887113\n",
            "Epoch 141/300, Train Loss: 1.9987, Duration: 0:00:24.701673\n",
            "Epoch 142/300, Train Loss: 1.9976, Duration: 0:00:24.709586\n",
            "Epoch 143/300, Train Loss: 1.9943, Duration: 0:00:24.940134\n",
            "Epoch 144/300, Train Loss: 1.9876, Duration: 0:00:24.942011\n",
            "Epoch 145/300, Train Loss: 1.9864, Duration: 0:00:24.737561\n",
            "Epoch 146/300, Train Loss: 1.9840, Duration: 0:00:24.872538\n",
            "Epoch 147/300, Train Loss: 1.9826, Duration: 0:00:24.920435\n",
            "Epoch 148/300, Train Loss: 1.9817, Duration: 0:00:24.716036\n",
            "Epoch 149/300, Train Loss: 1.9737, Duration: 0:00:24.681103\n",
            "Epoch 150/300, Train Loss: 1.9732, Duration: 0:00:24.984032\n",
            "Epoch 151/300, Train Loss: 1.9678, Duration: 0:00:24.831170\n",
            "Epoch 152/300, Train Loss: 1.9677, Duration: 0:00:25.194671\n",
            "Epoch 153/300, Train Loss: 1.9651, Duration: 0:00:24.708833\n",
            "Epoch 154/300, Train Loss: 1.9587, Duration: 0:00:24.651349\n",
            "Epoch 155/300, Train Loss: 1.9532, Duration: 0:00:24.668974\n",
            "Epoch 156/300, Train Loss: 1.9505, Duration: 0:00:24.863849\n",
            "Epoch 157/300, Train Loss: 1.9454, Duration: 0:00:24.910755\n",
            "Epoch 158/300, Train Loss: 1.9501, Duration: 0:00:24.836251\n",
            "Epoch 159/300, Train Loss: 1.9507, Duration: 0:00:24.585712\n",
            "Epoch 160/300, Train Loss: 1.9396, Duration: 0:00:24.719516\n",
            "Epoch 161/300, Train Loss: 1.9393, Duration: 0:00:24.791733\n",
            "Epoch 162/300, Train Loss: 1.9366, Duration: 0:00:24.648179\n",
            "Epoch 163/300, Train Loss: 1.9310, Duration: 0:00:24.754279\n",
            "Epoch 164/300, Train Loss: 1.9326, Duration: 0:00:24.657748\n",
            "Epoch 165/300, Train Loss: 1.9297, Duration: 0:00:24.809219\n",
            "Epoch 166/300, Train Loss: 1.9226, Duration: 0:00:24.872442\n",
            "Epoch 167/300, Train Loss: 1.9157, Duration: 0:00:24.721770\n",
            "Epoch 168/300, Train Loss: 1.9196, Duration: 0:00:24.807937\n",
            "Epoch 169/300, Train Loss: 1.9203, Duration: 0:00:24.593974\n",
            "Epoch 170/300, Train Loss: 1.9078, Duration: 0:00:24.965191\n",
            "Epoch 171/300, Train Loss: 1.9075, Duration: 0:00:24.681378\n",
            "Epoch 172/300, Train Loss: 1.9088, Duration: 0:00:24.908519\n",
            "Epoch 173/300, Train Loss: 1.9013, Duration: 0:00:24.872374\n",
            "Epoch 174/300, Train Loss: 1.8971, Duration: 0:00:24.871175\n",
            "Epoch 175/300, Train Loss: 1.8951, Duration: 0:00:25.002121\n",
            "Epoch 176/300, Train Loss: 1.8926, Duration: 0:00:24.979882\n",
            "Epoch 177/300, Train Loss: 1.8995, Duration: 0:00:24.964424\n",
            "Epoch 178/300, Train Loss: 1.8890, Duration: 0:00:24.787078\n",
            "Epoch 179/300, Train Loss: 1.8861, Duration: 0:00:24.695604\n",
            "Epoch 180/300, Train Loss: 1.8874, Duration: 0:00:24.882309\n",
            "Epoch 181/300, Train Loss: 1.8802, Duration: 0:00:24.947401\n",
            "Epoch 182/300, Train Loss: 1.8785, Duration: 0:00:24.841330\n",
            "Epoch 183/300, Train Loss: 1.8728, Duration: 0:00:24.781241\n",
            "Epoch 184/300, Train Loss: 1.8775, Duration: 0:00:24.639558\n",
            "Epoch 185/300, Train Loss: 1.8734, Duration: 0:00:24.732549\n",
            "Epoch 186/300, Train Loss: 1.8714, Duration: 0:00:24.611897\n",
            "Epoch 187/300, Train Loss: 1.8706, Duration: 0:00:24.714701\n",
            "Epoch 188/300, Train Loss: 1.8607, Duration: 0:00:24.807913\n",
            "Epoch 189/300, Train Loss: 1.8566, Duration: 0:00:24.721719\n",
            "Epoch 190/300, Train Loss: 1.8541, Duration: 0:00:24.837795\n",
            "Epoch 191/300, Train Loss: 1.8599, Duration: 0:00:25.146942\n",
            "Epoch 192/300, Train Loss: 1.8532, Duration: 0:00:24.679627\n",
            "Epoch 193/300, Train Loss: 1.8539, Duration: 0:00:24.457238\n",
            "Epoch 194/300, Train Loss: 1.8447, Duration: 0:00:24.772814\n",
            "Epoch 195/300, Train Loss: 1.8514, Duration: 0:00:24.565606\n",
            "Epoch 196/300, Train Loss: 1.8483, Duration: 0:00:24.664493\n",
            "Epoch 197/300, Train Loss: 1.8407, Duration: 0:00:24.537705\n",
            "Epoch 198/300, Train Loss: 1.8436, Duration: 0:00:24.824682\n",
            "Epoch 199/300, Train Loss: 1.8341, Duration: 0:00:24.728711\n",
            "Epoch 200/300, Train Loss: 1.8381, Duration: 0:00:24.675407\n",
            "Epoch 201/300, Train Loss: 1.8316, Duration: 0:00:24.831708\n",
            "Epoch 202/300, Train Loss: 1.8303, Duration: 0:00:24.563904\n",
            "Epoch 203/300, Train Loss: 1.8299, Duration: 0:00:24.836845\n",
            "Epoch 204/300, Train Loss: 1.8295, Duration: 0:00:24.893421\n",
            "Epoch 205/300, Train Loss: 1.8231, Duration: 0:00:24.851314\n",
            "Epoch 206/300, Train Loss: 1.8208, Duration: 0:00:24.648947\n",
            "Epoch 207/300, Train Loss: 1.8203, Duration: 0:00:24.757972\n",
            "Epoch 208/300, Train Loss: 1.8185, Duration: 0:00:24.825058\n",
            "Epoch 209/300, Train Loss: 1.8192, Duration: 0:00:24.865462\n",
            "Epoch 210/300, Train Loss: 1.8179, Duration: 0:00:24.853238\n",
            "Epoch 211/300, Train Loss: 1.8140, Duration: 0:00:24.760631\n",
            "Epoch 212/300, Train Loss: 1.8103, Duration: 0:00:24.760467\n",
            "Epoch 213/300, Train Loss: 1.8107, Duration: 0:00:24.762330\n",
            "Epoch 214/300, Train Loss: 1.8059, Duration: 0:00:24.877961\n",
            "Epoch 215/300, Train Loss: 1.8033, Duration: 0:00:24.693574\n",
            "Epoch 216/300, Train Loss: 1.7981, Duration: 0:00:24.836292\n",
            "Epoch 217/300, Train Loss: 1.8004, Duration: 0:00:25.147179\n",
            "Epoch 218/300, Train Loss: 1.8022, Duration: 0:00:24.845842\n",
            "Epoch 219/300, Train Loss: 1.7929, Duration: 0:00:24.950751\n",
            "Epoch 220/300, Train Loss: 1.7900, Duration: 0:00:24.852200\n",
            "Epoch 221/300, Train Loss: 1.7911, Duration: 0:00:24.781026\n",
            "Epoch 222/300, Train Loss: 1.7879, Duration: 0:00:24.681023\n",
            "Epoch 223/300, Train Loss: 1.7871, Duration: 0:00:24.835357\n",
            "Epoch 224/300, Train Loss: 1.7828, Duration: 0:00:24.834697\n",
            "Epoch 225/300, Train Loss: 1.7832, Duration: 0:00:24.812064\n",
            "Epoch 226/300, Train Loss: 1.7809, Duration: 0:00:24.751132\n",
            "Epoch 227/300, Train Loss: 1.7749, Duration: 0:00:24.690650\n",
            "Epoch 228/300, Train Loss: 1.7760, Duration: 0:00:24.899824\n",
            "Epoch 229/300, Train Loss: 1.7765, Duration: 0:00:24.823428\n",
            "Epoch 230/300, Train Loss: 1.7699, Duration: 0:00:24.555813\n",
            "Epoch 231/300, Train Loss: 1.7758, Duration: 0:00:24.755472\n",
            "Epoch 232/300, Train Loss: 1.7669, Duration: 0:00:24.763159\n",
            "Epoch 233/300, Train Loss: 1.7675, Duration: 0:00:24.684351\n",
            "Epoch 234/300, Train Loss: 1.7612, Duration: 0:00:24.676190\n",
            "Epoch 235/300, Train Loss: 1.7605, Duration: 0:00:24.937306\n",
            "Epoch 236/300, Train Loss: 1.7590, Duration: 0:00:24.910186\n",
            "Epoch 237/300, Train Loss: 1.7571, Duration: 0:00:24.876194\n",
            "Epoch 238/300, Train Loss: 1.7554, Duration: 0:00:24.838867\n",
            "Epoch 239/300, Train Loss: 1.7542, Duration: 0:00:24.719922\n",
            "Epoch 240/300, Train Loss: 1.7505, Duration: 0:00:24.616881\n",
            "Epoch 241/300, Train Loss: 1.7486, Duration: 0:00:24.692022\n",
            "Epoch 242/300, Train Loss: 1.7512, Duration: 0:00:24.788572\n",
            "Epoch 243/300, Train Loss: 1.7448, Duration: 0:00:24.838004\n",
            "Epoch 244/300, Train Loss: 1.7404, Duration: 0:00:24.900842\n",
            "Epoch 245/300, Train Loss: 1.7422, Duration: 0:00:24.940347\n",
            "Epoch 246/300, Train Loss: 1.7394, Duration: 0:00:24.902895\n",
            "Epoch 247/300, Train Loss: 1.7382, Duration: 0:00:24.685610\n"
          ]
        },
        {
          "output_type": "error",
          "ename": "KeyboardInterrupt",
          "evalue": "ignored",
          "traceback": [
            "\u001b[0;31m---------------------------------------------------------------------------\u001b[0m",
            "\u001b[0;31mKeyboardInterrupt\u001b[0m                         Traceback (most recent call last)",
            "\u001b[0;32m<ipython-input-48-0b955acc0388>\u001b[0m in \u001b[0;36m<cell line: 1>\u001b[0;34m()\u001b[0m\n\u001b[0;32m----> 1\u001b[0;31m train_losses = train(\n\u001b[0m\u001b[1;32m      2\u001b[0m     \u001b[0mmodel\u001b[0m\u001b[0;34m,\u001b[0m \u001b[0mcriterion\u001b[0m\u001b[0;34m,\u001b[0m \u001b[0moptimizer\u001b[0m\u001b[0;34m,\u001b[0m \u001b[0mtrain_loader\u001b[0m\u001b[0;34m,\u001b[0m \u001b[0mepochs\u001b[0m\u001b[0;34m=\u001b[0m\u001b[0;36m300\u001b[0m\u001b[0;34m\u001b[0m\u001b[0;34m\u001b[0m\u001b[0m\n\u001b[1;32m      3\u001b[0m )\n",
            "\u001b[0;32m<ipython-input-46-6890c7eb6bc1>\u001b[0m in \u001b[0;36mtrain\u001b[0;34m(model, criterion, optimizer, train_loader, epochs)\u001b[0m\n\u001b[1;32m     30\u001b[0m \u001b[0;34m\u001b[0m\u001b[0m\n\u001b[1;32m     31\u001b[0m       \u001b[0;31m# Backward and optimize\u001b[0m\u001b[0;34m\u001b[0m\u001b[0;34m\u001b[0m\u001b[0m\n\u001b[0;32m---> 32\u001b[0;31m       \u001b[0mloss\u001b[0m\u001b[0;34m.\u001b[0m\u001b[0mbackward\u001b[0m\u001b[0;34m(\u001b[0m\u001b[0;34m)\u001b[0m\u001b[0;34m\u001b[0m\u001b[0;34m\u001b[0m\u001b[0m\n\u001b[0m\u001b[1;32m     33\u001b[0m       \u001b[0moptimizer\u001b[0m\u001b[0;34m.\u001b[0m\u001b[0mstep\u001b[0m\u001b[0;34m(\u001b[0m\u001b[0;34m)\u001b[0m\u001b[0;34m\u001b[0m\u001b[0;34m\u001b[0m\u001b[0m\n\u001b[1;32m     34\u001b[0m       \u001b[0mtrain_loss\u001b[0m\u001b[0;34m.\u001b[0m\u001b[0mappend\u001b[0m\u001b[0;34m(\u001b[0m\u001b[0mloss\u001b[0m\u001b[0;34m.\u001b[0m\u001b[0mitem\u001b[0m\u001b[0;34m(\u001b[0m\u001b[0;34m)\u001b[0m\u001b[0;34m)\u001b[0m\u001b[0;34m\u001b[0m\u001b[0;34m\u001b[0m\u001b[0m\n",
            "\u001b[0;32m/usr/local/lib/python3.10/dist-packages/torch/_tensor.py\u001b[0m in \u001b[0;36mbackward\u001b[0;34m(self, gradient, retain_graph, create_graph, inputs)\u001b[0m\n\u001b[1;32m    490\u001b[0m                 \u001b[0minputs\u001b[0m\u001b[0;34m=\u001b[0m\u001b[0minputs\u001b[0m\u001b[0;34m,\u001b[0m\u001b[0;34m\u001b[0m\u001b[0;34m\u001b[0m\u001b[0m\n\u001b[1;32m    491\u001b[0m             )\n\u001b[0;32m--> 492\u001b[0;31m         torch.autograd.backward(\n\u001b[0m\u001b[1;32m    493\u001b[0m             \u001b[0mself\u001b[0m\u001b[0;34m,\u001b[0m \u001b[0mgradient\u001b[0m\u001b[0;34m,\u001b[0m \u001b[0mretain_graph\u001b[0m\u001b[0;34m,\u001b[0m \u001b[0mcreate_graph\u001b[0m\u001b[0;34m,\u001b[0m \u001b[0minputs\u001b[0m\u001b[0;34m=\u001b[0m\u001b[0minputs\u001b[0m\u001b[0;34m\u001b[0m\u001b[0;34m\u001b[0m\u001b[0m\n\u001b[1;32m    494\u001b[0m         )\n",
            "\u001b[0;32m/usr/local/lib/python3.10/dist-packages/torch/autograd/__init__.py\u001b[0m in \u001b[0;36mbackward\u001b[0;34m(tensors, grad_tensors, retain_graph, create_graph, grad_variables, inputs)\u001b[0m\n\u001b[1;32m    249\u001b[0m     \u001b[0;31m# some Python versions print out the first line of a multi-line function\u001b[0m\u001b[0;34m\u001b[0m\u001b[0;34m\u001b[0m\u001b[0m\n\u001b[1;32m    250\u001b[0m     \u001b[0;31m# calls in the traceback and some print out the last line\u001b[0m\u001b[0;34m\u001b[0m\u001b[0;34m\u001b[0m\u001b[0m\n\u001b[0;32m--> 251\u001b[0;31m     Variable._execution_engine.run_backward(  # Calls into the C++ engine to run the backward pass\n\u001b[0m\u001b[1;32m    252\u001b[0m         \u001b[0mtensors\u001b[0m\u001b[0;34m,\u001b[0m\u001b[0;34m\u001b[0m\u001b[0;34m\u001b[0m\u001b[0m\n\u001b[1;32m    253\u001b[0m         \u001b[0mgrad_tensors_\u001b[0m\u001b[0;34m,\u001b[0m\u001b[0;34m\u001b[0m\u001b[0;34m\u001b[0m\u001b[0m\n",
            "\u001b[0;31mKeyboardInterrupt\u001b[0m: "
          ]
        }
      ]
    },
    {
      "cell_type": "code",
      "source": [
        "valid_loader = DataLoader(\n",
        "    tokenized_datasets[\"test\"],\n",
        "    batch_size = 1,\n",
        "    collate_fn =data_collator\n",
        ")"
      ],
      "metadata": {
        "id": "2YNHL1I-Itwc"
      },
      "execution_count": null,
      "outputs": []
    },
    {
      "cell_type": "code",
      "source": [
        "model.eval()\n",
        "for batch in valid_loader:\n",
        "  #move data to GPU\n",
        "  batch = {k: v.to(device) for k,v in batch.items()}\n",
        "  outputs = model(batch[\"input_ids\"], batch[\"attention_mask\"])\n",
        "  break"
      ],
      "metadata": {
        "id": "588pPV5SJQH5"
      },
      "execution_count": null,
      "outputs": []
    },
    {
      "cell_type": "code",
      "source": [
        "outputs.shape"
      ],
      "metadata": {
        "id": "q25DGx1QJkGa",
        "colab": {
          "base_uri": "https://localhost:8080/"
        },
        "outputId": "7aafbf76-fa5c-4dc9-c2fa-3268e00d669c"
      },
      "execution_count": null,
      "outputs": [
        {
          "output_type": "execute_result",
          "data": {
            "text/plain": [
              "torch.Size([1, 92, 28996])"
            ]
          },
          "metadata": {},
          "execution_count": 51
        }
      ]
    },
    {
      "cell_type": "code",
      "source": [
        "torch.argmax(outputs, axis=-1)"
      ],
      "metadata": {
        "id": "8fQfo3DYJk-q",
        "colab": {
          "base_uri": "https://localhost:8080/"
        },
        "outputId": "4242a2e8-64f9-4fec-ca90-0448d6dd69e0"
      },
      "execution_count": null,
      "outputs": [
        {
          "output_type": "execute_result",
          "data": {
            "text/plain": [
              "tensor([[  789,  1173,  5750,   117,  1403,   117,  1103,  1108,  1977,  1103,\n",
              "          1104,  1103, 11035,  1234,   117,  1172,  1103, 11035,  1106,   102,\n",
              "           787,  1205,  1154,  1103, 22116,  1733,   117,  2133,  1125, 16571,\n",
              "          2355,  1106,  1117,   179,   117,  1213,  1193,  1283,  1916,  1105,\n",
              "          1486,   170,  2922,   117,  2777,   170,  7015,  1106,  1117,  1762,\n",
              "          3276,   119,  1108,   170, 22116,  1733,   119,  1105,   170,   119,\n",
              "          1105,  1171,  1106,  1193,   119,  1103, 15694,  1176,  1119,  1127,\n",
              "          1149,  2038,  1115,  2045,  1194,  1103,  1632,  1385, 15736,  2787,\n",
              "          1176,  1103,  1105,  1127,  6205, 12923,  1140,  2365,  1174,   119,\n",
              "           102,  1115]], device='cuda:0')"
            ]
          },
          "metadata": {},
          "execution_count": 52
        }
      ]
    },
    {
      "cell_type": "code",
      "source": [
        "prediction_ids = torch.argmax(outputs, axis=-1) # save these predictions"
      ],
      "metadata": {
        "id": "cYMtRYcRJmyT"
      },
      "execution_count": null,
      "outputs": []
    },
    {
      "cell_type": "code",
      "source": [
        "tokenizer.decode(prediction_ids[0]) #integers to tokens"
      ],
      "metadata": {
        "id": "h_Ov4BAUKK3d",
        "colab": {
          "base_uri": "https://localhost:8080/",
          "height": 53
        },
        "outputId": "709b6ede-3857-43d8-87a9-30508b9426cc"
      },
      "execution_count": null,
      "outputs": [
        {
          "output_type": "execute_result",
          "data": {
            "text/plain": [
              "'“ then indeed,g, the was forward the of the staircase people, them the staircase to [SEP] ’ down into theravers, whose had bending holding to his j, aroundly awayting and saw a throat, Where a scream to his heartnd. was aravers. and a. and back toly. the inadequate like he were out Great that walked through the great old tangledway like the and were searching cloak himfuled. [SEP] that'"
            ],
            "application/vnd.google.colaboratory.intrinsic+json": {
              "type": "string"
            }
          },
          "metadata": {},
          "execution_count": 54
        }
      ]
    },
    {
      "cell_type": "code",
      "source": [
        "tokenizer.decode(batch[\"input_ids\"][0]) #input of the sentence"
      ],
      "metadata": {
        "id": "_2yFWt1RKPwg",
        "colab": {
          "base_uri": "https://localhost:8080/",
          "height": 53
        },
        "outputId": "6be465dd-524a-4567-e876-76fab44bff9b"
      },
      "execution_count": null,
      "outputs": [
        {
          "output_type": "execute_result",
          "data": {
            "text/plain": [
              "'[CLS] And, still clanking, he hurried toward one of the many doors leading off the hall. Harry looked back at Travers, who was still rooted to the spot looking abnormally vacant, and made his decision : With a flick of his wand he made Travers come with them, walking meekly in their wake as they reached the door and passed into the rough stone passageway beyond, which was lit with flaming torches. [SEP]'"
            ],
            "application/vnd.google.colaboratory.intrinsic+json": {
              "type": "string"
            }
          },
          "metadata": {},
          "execution_count": 55
        }
      ]
    },
    {
      "cell_type": "code",
      "source": [
        "tokenizer.decode(torch.concat((batch[\"input_ids\"][0,:5], prediction_ids[:, 4])))"
      ],
      "metadata": {
        "id": "0XGAb0rPKVFO",
        "colab": {
          "base_uri": "https://localhost:8080/",
          "height": 35
        },
        "outputId": "3a3e2e8a-77c8-4e32-c6dc-f975d412d0d8"
      },
      "execution_count": null,
      "outputs": [
        {
          "output_type": "execute_result",
          "data": {
            "text/plain": [
              "'[CLS] And, still clang'"
            ],
            "application/vnd.google.colaboratory.intrinsic+json": {
              "type": "string"
            }
          },
          "metadata": {},
          "execution_count": 56
        }
      ]
    },
    {
      "cell_type": "code",
      "source": [
        "# generate something\n",
        "prompt = \"Wizard\"\n",
        "\n",
        "tokenized_prompt = tokenizer(prompt, return_tensors='pt')\n",
        "\n",
        "# prepare inputs + get rid of SEP token at the end\n",
        "input_ids = tokenized_prompt['input_ids'][:, :-1].to(device)\n",
        "mask = tokenized_prompt['attention_mask'][:, :-1].to(device)\n",
        "\n",
        "for _ in range(100):\n",
        "  outputs = model(input_ids, mask)\n",
        "  prediction_id = torch.argmax(outputs[:, -1, :], axis=-1)\n",
        "\n",
        "  input_ids = torch.hstack((input_ids, prediction_id.view(1, 1)))\n",
        "  mask = torch.ones_like(input_ids)\n",
        "\n",
        "  if prediction_id == tokenizer.sep_token_id:\n",
        "    break\n",
        "\n",
        "tokenizer.decode(input_ids[0][1:-1])"
      ],
      "metadata": {
        "id": "zdygPwy1Kjde",
        "colab": {
          "base_uri": "https://localhost:8080/",
          "height": 35
        },
        "outputId": "fab5956b-afd7-442f-ceaf-09200cfe5909"
      },
      "execution_count": null,
      "outputs": [
        {
          "output_type": "execute_result",
          "data": {
            "text/plain": [
              "'Wizarding territory the only way to the only way to be stopped, to the only chance... He could not find out what he had done...'"
            ],
            "application/vnd.google.colaboratory.intrinsic+json": {
              "type": "string"
            }
          },
          "metadata": {},
          "execution_count": 57
        }
      ]
    },
    {
      "cell_type": "code",
      "source": [
        "# generate something\n",
        "for _  in range(3):\n",
        "  prompt = input(\"\")\n",
        "\n",
        "  tokenized_prompt = tokenizer(prompt, return_tensors='pt')\n",
        "\n",
        "  # prepare inputs + get rid of SEP token at the end\n",
        "  input_ids = tokenized_prompt['input_ids'][:, :-1].to(device)\n",
        "  mask = tokenized_prompt['attention_mask'][:, :-1].to(device)\n",
        "\n",
        "  for _ in range(100):\n",
        "    outputs = model(input_ids, mask)\n",
        "    prediction_id = torch.argmax(outputs[:, -1, :], axis=-1)\n",
        "\n",
        "    input_ids = torch.hstack((input_ids, prediction_id.view(1, 1)))\n",
        "    mask = torch.ones_like(input_ids)\n",
        "\n",
        "    if prediction_id == tokenizer.sep_token_id:\n",
        "      break\n",
        "\n",
        "  print(tokenizer.decode(input_ids[0][1:-1]))"
      ],
      "metadata": {
        "colab": {
          "base_uri": "https://localhost:8080/"
        },
        "id": "1RJPP1Ln5d0p",
        "outputId": "e607b896-46a5-41e8-e56f-29901be70509"
      },
      "execution_count": null,
      "outputs": [
        {
          "output_type": "stream",
          "name": "stdout",
          "text": [
            "coming\n",
            "coming from the pocket of the forest flew Harry ’ s own left anducksack for a moment, then realized that it was a few seconds before he could do not do too full of a full of hidden drive, but a full of movement, a picture of odd mass on a weed against a prickling\n",
            "what are you saying ?\n",
            "what are you saying? People were the same, the only one of the Death Eaters, their wands, waiting for the first time, waiting for the first time, missed which were becoming more than twenty - to scabbed and missed and missed\n",
            "who are we missing?\n",
            "who are we missing? ” said Harry.\n"
          ]
        }
      ]
    }
  ]
}